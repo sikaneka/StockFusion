{
 "cells": [
  {
   "cell_type": "markdown",
   "metadata": {},
   "source": [
    "\n",
    "## **Problem Statement:**  \n",
    "\n",
    "Develop a predictive model  to forecast the next day's stock market closing price based on historical data, including open, high, low, volume, and adjusted close price to aid in informed decision-making. The following steps has to be performed for a complete analysis and evaluation.\n",
    "\n",
    "\n",
    "DIFFERNT MODELS:\n",
    "\n",
    "1. Hybrid Model: A combination of LSTM and Linear Regression. \n",
    " \n",
    "2. Advanced Hybrid Model: A combination of Linear Regression, LSTM, SVR, and Random Forest.\n",
    "  \n",
    "3. Voting Regressor: An ensemble approach integrating the models from the second step.  \n",
    "\n",
    "\n",
    "FEATURE ENGINEERING/FEATURE SELECTION:\n",
    "\n",
    "Each model is evaluated using three different feature selection strategies:  \n",
    "\n",
    "- Approach 1: Using Open, High, Low, Volume, and Adjusted Close as independent features.\n",
    "  \n",
    "- Approach 2: Using Open, High, and Low as independent features.\n",
    "  \n",
    "- Approach 3: Using Close as both the dependent and independent variable.  \n",
    "\n",
    "\n",
    "List down nine different values of MAE, RMSE and R2 values, and conclude, which combination of feature and algorithm gives the best accuracy among all combinations."
   ]
  },
  {
   "cell_type": "markdown",
   "metadata": {},
   "source": [
    "### PREPROCESSING"
   ]
  },
  {
   "cell_type": "code",
   "execution_count": 2,
   "metadata": {},
   "outputs": [],
   "source": [
    "#import required libraries\n",
    "import pandas as pd\n",
    "import numpy as np\n",
    "import seaborn as sns\n",
    "import matplotlib.pyplot as plt"
   ]
  },
  {
   "cell_type": "code",
   "execution_count": 3,
   "metadata": {},
   "outputs": [],
   "source": [
    "#load data\n",
    "data=pd.read_csv('apple_stock_data.csv')"
   ]
  },
  {
   "cell_type": "code",
   "execution_count": 4,
   "metadata": {},
   "outputs": [
    {
     "data": {
      "text/html": [
       "<div>\n",
       "<style scoped>\n",
       "    .dataframe tbody tr th:only-of-type {\n",
       "        vertical-align: middle;\n",
       "    }\n",
       "\n",
       "    .dataframe tbody tr th {\n",
       "        vertical-align: top;\n",
       "    }\n",
       "\n",
       "    .dataframe thead th {\n",
       "        text-align: right;\n",
       "    }\n",
       "</style>\n",
       "<table border=\"1\" class=\"dataframe\">\n",
       "  <thead>\n",
       "    <tr style=\"text-align: right;\">\n",
       "      <th></th>\n",
       "      <th>Date</th>\n",
       "      <th>Adj Close</th>\n",
       "      <th>Close</th>\n",
       "      <th>High</th>\n",
       "      <th>Low</th>\n",
       "      <th>Open</th>\n",
       "      <th>Volume</th>\n",
       "    </tr>\n",
       "  </thead>\n",
       "  <tbody>\n",
       "    <tr>\n",
       "      <th>0</th>\n",
       "      <td>2023-11-02 00:00:00+00:00</td>\n",
       "      <td>176.665985</td>\n",
       "      <td>177.570007</td>\n",
       "      <td>177.779999</td>\n",
       "      <td>175.460007</td>\n",
       "      <td>175.520004</td>\n",
       "      <td>77334800</td>\n",
       "    </tr>\n",
       "    <tr>\n",
       "      <th>1</th>\n",
       "      <td>2023-11-03 00:00:00+00:00</td>\n",
       "      <td>175.750671</td>\n",
       "      <td>176.649994</td>\n",
       "      <td>176.820007</td>\n",
       "      <td>173.350006</td>\n",
       "      <td>174.240005</td>\n",
       "      <td>79763700</td>\n",
       "    </tr>\n",
       "    <tr>\n",
       "      <th>2</th>\n",
       "      <td>2023-11-06 00:00:00+00:00</td>\n",
       "      <td>178.317520</td>\n",
       "      <td>179.229996</td>\n",
       "      <td>179.429993</td>\n",
       "      <td>176.210007</td>\n",
       "      <td>176.380005</td>\n",
       "      <td>63841300</td>\n",
       "    </tr>\n",
       "    <tr>\n",
       "      <th>3</th>\n",
       "      <td>2023-11-07 00:00:00+00:00</td>\n",
       "      <td>180.894333</td>\n",
       "      <td>181.820007</td>\n",
       "      <td>182.440002</td>\n",
       "      <td>178.970001</td>\n",
       "      <td>179.179993</td>\n",
       "      <td>70530000</td>\n",
       "    </tr>\n",
       "    <tr>\n",
       "      <th>4</th>\n",
       "      <td>2023-11-08 00:00:00+00:00</td>\n",
       "      <td>181.958893</td>\n",
       "      <td>182.889999</td>\n",
       "      <td>183.449997</td>\n",
       "      <td>181.589996</td>\n",
       "      <td>182.350006</td>\n",
       "      <td>49340300</td>\n",
       "    </tr>\n",
       "  </tbody>\n",
       "</table>\n",
       "</div>"
      ],
      "text/plain": [
       "                        Date   Adj Close       Close        High         Low  \\\n",
       "0  2023-11-02 00:00:00+00:00  176.665985  177.570007  177.779999  175.460007   \n",
       "1  2023-11-03 00:00:00+00:00  175.750671  176.649994  176.820007  173.350006   \n",
       "2  2023-11-06 00:00:00+00:00  178.317520  179.229996  179.429993  176.210007   \n",
       "3  2023-11-07 00:00:00+00:00  180.894333  181.820007  182.440002  178.970001   \n",
       "4  2023-11-08 00:00:00+00:00  181.958893  182.889999  183.449997  181.589996   \n",
       "\n",
       "         Open    Volume  \n",
       "0  175.520004  77334800  \n",
       "1  174.240005  79763700  \n",
       "2  176.380005  63841300  \n",
       "3  179.179993  70530000  \n",
       "4  182.350006  49340300  "
      ]
     },
     "execution_count": 4,
     "metadata": {},
     "output_type": "execute_result"
    }
   ],
   "source": [
    "data.head()"
   ]
  },
  {
   "cell_type": "code",
   "execution_count": 5,
   "metadata": {},
   "outputs": [],
   "source": [
    "data['Date']=pd.to_datetime(data['Date'])"
   ]
  },
  {
   "cell_type": "code",
   "execution_count": 6,
   "metadata": {},
   "outputs": [
    {
     "data": {
      "text/plain": [
       "Date         0\n",
       "Adj Close    0\n",
       "Close        0\n",
       "High         0\n",
       "Low          0\n",
       "Open         0\n",
       "Volume       0\n",
       "dtype: int64"
      ]
     },
     "execution_count": 6,
     "metadata": {},
     "output_type": "execute_result"
    }
   ],
   "source": [
    "data.isnull().sum()"
   ]
  },
  {
   "cell_type": "code",
   "execution_count": 7,
   "metadata": {},
   "outputs": [
    {
     "data": {
      "text/plain": [
       "0"
      ]
     },
     "execution_count": 7,
     "metadata": {},
     "output_type": "execute_result"
    }
   ],
   "source": [
    "data.duplicated().sum()"
   ]
  },
  {
   "cell_type": "code",
   "execution_count": 8,
   "metadata": {},
   "outputs": [
    {
     "name": "stdout",
     "output_type": "stream",
     "text": [
      "<class 'pandas.core.frame.DataFrame'>\n",
      "RangeIndex: 252 entries, 0 to 251\n",
      "Data columns (total 7 columns):\n",
      " #   Column     Non-Null Count  Dtype              \n",
      "---  ------     --------------  -----              \n",
      " 0   Date       252 non-null    datetime64[ns, UTC]\n",
      " 1   Adj Close  252 non-null    float64            \n",
      " 2   Close      252 non-null    float64            \n",
      " 3   High       252 non-null    float64            \n",
      " 4   Low        252 non-null    float64            \n",
      " 5   Open       252 non-null    float64            \n",
      " 6   Volume     252 non-null    int64              \n",
      "dtypes: datetime64[ns, UTC](1), float64(5), int64(1)\n",
      "memory usage: 13.9 KB\n"
     ]
    }
   ],
   "source": [
    "data.info()"
   ]
  },
  {
   "cell_type": "code",
   "execution_count": 9,
   "metadata": {},
   "outputs": [],
   "source": [
    "data.set_index('Date',inplace=True)"
   ]
  },
  {
   "cell_type": "code",
   "execution_count": 10,
   "metadata": {},
   "outputs": [
    {
     "data": {
      "text/plain": [
       "<Axes: >"
      ]
     },
     "execution_count": 10,
     "metadata": {},
     "output_type": "execute_result"
    },
    {
     "data": {
      "image/png": "[encoded data removed]",
      "text/plain": [
       "<Figure size 640x480 with 2 Axes>"
      ]
     },
     "metadata": {},
     "output_type": "display_data"
    }
   ],
   "source": [
    "cor=data.corr()\n",
    "sns.heatmap(cor,annot=True)"
   ]
  },
  {
   "cell_type": "code",
   "execution_count": 11,
   "metadata": {},
   "outputs": [
    {
     "data": {
      "image/png": "[encoded data removed]",
      "text/plain": [
       "<Figure size 640x480 with 1 Axes>"
      ]
     },
     "metadata": {},
     "output_type": "display_data"
    },
    {
     "data": {
      "image/png": "[encoded data removed]",
      "text/plain": [
       "<Figure size 640x480 with 1 Axes>"
      ]
     },
     "metadata": {},
     "output_type": "display_data"
    },
    {
     "data": {
      "image/png": "[encoded data removed]",
      "text/plain": [
       "<Figure size 640x480 with 1 Axes>"
      ]
     },
     "metadata": {},
     "output_type": "display_data"
    },
    {
     "data": {
      "image/png": "[encoded data removed]",
      "text/plain": [
       "<Figure size 640x480 with 1 Axes>"
      ]
     },
     "metadata": {},
     "output_type": "display_data"
    },
    {
     "data": {
      "image/png": "[encoded data removed]",
      "text/plain": [
       "<Figure size 640x480 with 1 Axes>"
      ]
     },
     "metadata": {},
     "output_type": "display_data"
    },
    {
     "data": {
      "image/png": "[encoded data removed]",
      "text/plain": [
       "<Figure size 640x480 with 1 Axes>"
      ]
     },
     "metadata": {},
     "output_type": "display_data"
    }
   ],
   "source": [
    "for i in data.columns:\n",
    "    sns.boxplot(data[i])\n",
    "    plt.show()"
   ]
  },
  {
   "cell_type": "markdown",
   "metadata": {},
   "source": [
    "in stock market the volume can not be considered as a outlier, it is considered as an anomaly"
   ]
  },
  {
   "cell_type": "code",
   "execution_count": 12,
   "metadata": {},
   "outputs": [],
   "source": [
    "# scale the dataframe\n",
    "from sklearn.preprocessing import MinMaxScaler\n",
    "scaler=MinMaxScaler(feature_range=(0,1))\n",
    "df=pd.DataFrame(scaler.fit_transform(data),columns=data.columns,index=data.index)"
   ]
  },
  {
   "cell_type": "code",
   "execution_count": 13,
   "metadata": {},
   "outputs": [
    {
     "data": {
      "text/html": [
       "<div>\n",
       "<style scoped>\n",
       "    .dataframe tbody tr th:only-of-type {\n",
       "        vertical-align: middle;\n",
       "    }\n",
       "\n",
       "    .dataframe tbody tr th {\n",
       "        vertical-align: top;\n",
       "    }\n",
       "\n",
       "    .dataframe thead th {\n",
       "        text-align: right;\n",
       "    }\n",
       "</style>\n",
       "<table border=\"1\" class=\"dataframe\">\n",
       "  <thead>\n",
       "    <tr style=\"text-align: right;\">\n",
       "      <th></th>\n",
       "      <th>Adj Close</th>\n",
       "      <th>Close</th>\n",
       "      <th>High</th>\n",
       "      <th>Low</th>\n",
       "      <th>Open</th>\n",
       "      <th>Volume</th>\n",
       "    </tr>\n",
       "    <tr>\n",
       "      <th>Date</th>\n",
       "      <th></th>\n",
       "      <th></th>\n",
       "      <th></th>\n",
       "      <th></th>\n",
       "      <th></th>\n",
       "      <th></th>\n",
       "    </tr>\n",
       "  </thead>\n",
       "  <tbody>\n",
       "    <tr>\n",
       "      <th>2023-11-02 00:00:00+00:00</th>\n",
       "      <td>0.168025</td>\n",
       "      <td>0.175853</td>\n",
       "      <td>0.160079</td>\n",
       "      <td>0.161717</td>\n",
       "      <td>0.142978</td>\n",
       "      <td>0.180858</td>\n",
       "    </tr>\n",
       "    <tr>\n",
       "      <th>2023-11-03 00:00:00+00:00</th>\n",
       "      <td>0.155294</td>\n",
       "      <td>0.162983</td>\n",
       "      <td>0.146575</td>\n",
       "      <td>0.131732</td>\n",
       "      <td>0.124982</td>\n",
       "      <td>0.189102</td>\n",
       "    </tr>\n",
       "    <tr>\n",
       "      <th>2023-11-06 00:00:00+00:00</th>\n",
       "      <td>0.190997</td>\n",
       "      <td>0.199077</td>\n",
       "      <td>0.183289</td>\n",
       "      <td>0.172375</td>\n",
       "      <td>0.155068</td>\n",
       "      <td>0.135060</td>\n",
       "    </tr>\n",
       "    <tr>\n",
       "      <th>2023-11-07 00:00:00+00:00</th>\n",
       "      <td>0.226839</td>\n",
       "      <td>0.235311</td>\n",
       "      <td>0.225630</td>\n",
       "      <td>0.211596</td>\n",
       "      <td>0.194433</td>\n",
       "      <td>0.157762</td>\n",
       "    </tr>\n",
       "    <tr>\n",
       "      <th>2023-11-08 00:00:00+00:00</th>\n",
       "      <td>0.241646</td>\n",
       "      <td>0.250280</td>\n",
       "      <td>0.239837</td>\n",
       "      <td>0.248828</td>\n",
       "      <td>0.238999</td>\n",
       "      <td>0.085843</td>\n",
       "    </tr>\n",
       "    <tr>\n",
       "      <th>...</th>\n",
       "      <td>...</td>\n",
       "      <td>...</td>\n",
       "      <td>...</td>\n",
       "      <td>...</td>\n",
       "      <td>...</td>\n",
       "      <td>...</td>\n",
       "    </tr>\n",
       "    <tr>\n",
       "      <th>2024-10-28 00:00:00+00:00</th>\n",
       "      <td>0.957159</td>\n",
       "      <td>0.956911</td>\n",
       "      <td>0.961176</td>\n",
       "      <td>0.973000</td>\n",
       "      <td>0.955574</td>\n",
       "      <td>0.040861</td>\n",
       "    </tr>\n",
       "    <tr>\n",
       "      <th>2024-10-29 00:00:00+00:00</th>\n",
       "      <td>0.960915</td>\n",
       "      <td>0.960688</td>\n",
       "      <td>0.955549</td>\n",
       "      <td>0.969732</td>\n",
       "      <td>0.952482</td>\n",
       "      <td>0.038587</td>\n",
       "    </tr>\n",
       "    <tr>\n",
       "      <th>2024-10-30 00:00:00+00:00</th>\n",
       "      <td>0.911258</td>\n",
       "      <td>0.910744</td>\n",
       "      <td>0.943452</td>\n",
       "      <td>0.930368</td>\n",
       "      <td>0.945593</td>\n",
       "      <td>0.078140</td>\n",
       "    </tr>\n",
       "    <tr>\n",
       "      <th>2024-10-31 00:00:00+00:00</th>\n",
       "      <td>0.852978</td>\n",
       "      <td>0.852127</td>\n",
       "      <td>0.892249</td>\n",
       "      <td>0.870968</td>\n",
       "      <td>0.899620</td>\n",
       "      <td>0.136855</td>\n",
       "    </tr>\n",
       "    <tr>\n",
       "      <th>2024-11-01 00:00:00+00:00</th>\n",
       "      <td>0.811250</td>\n",
       "      <td>0.810157</td>\n",
       "      <td>0.829231</td>\n",
       "      <td>0.798494</td>\n",
       "      <td>0.781949</td>\n",
       "      <td>0.139815</td>\n",
       "    </tr>\n",
       "  </tbody>\n",
       "</table>\n",
       "<p>252 rows × 6 columns</p>\n",
       "</div>"
      ],
      "text/plain": [
       "                           Adj Close     Close      High       Low      Open  \\\n",
       "Date                                                                           \n",
       "2023-11-02 00:00:00+00:00   0.168025  0.175853  0.160079  0.161717  0.142978   \n",
       "2023-11-03 00:00:00+00:00   0.155294  0.162983  0.146575  0.131732  0.124982   \n",
       "2023-11-06 00:00:00+00:00   0.190997  0.199077  0.183289  0.172375  0.155068   \n",
       "2023-11-07 00:00:00+00:00   0.226839  0.235311  0.225630  0.211596  0.194433   \n",
       "2023-11-08 00:00:00+00:00   0.241646  0.250280  0.239837  0.248828  0.238999   \n",
       "...                              ...       ...       ...       ...       ...   \n",
       "2024-10-28 00:00:00+00:00   0.957159  0.956911  0.961176  0.973000  0.955574   \n",
       "2024-10-29 00:00:00+00:00   0.960915  0.960688  0.955549  0.969732  0.952482   \n",
       "2024-10-30 00:00:00+00:00   0.911258  0.910744  0.943452  0.930368  0.945593   \n",
       "2024-10-31 00:00:00+00:00   0.852978  0.852127  0.892249  0.870968  0.899620   \n",
       "2024-11-01 00:00:00+00:00   0.811250  0.810157  0.829231  0.798494  0.781949   \n",
       "\n",
       "                             Volume  \n",
       "Date                                 \n",
       "2023-11-02 00:00:00+00:00  0.180858  \n",
       "2023-11-03 00:00:00+00:00  0.189102  \n",
       "2023-11-06 00:00:00+00:00  0.135060  \n",
       "2023-11-07 00:00:00+00:00  0.157762  \n",
       "2023-11-08 00:00:00+00:00  0.085843  \n",
       "...                             ...  \n",
       "2024-10-28 00:00:00+00:00  0.040861  \n",
       "2024-10-29 00:00:00+00:00  0.038587  \n",
       "2024-10-30 00:00:00+00:00  0.078140  \n",
       "2024-10-31 00:00:00+00:00  0.136855  \n",
       "2024-11-01 00:00:00+00:00  0.139815  \n",
       "\n",
       "[252 rows x 6 columns]"
      ]
     },
     "execution_count": 13,
     "metadata": {},
     "output_type": "execute_result"
    }
   ],
   "source": [
    "df"
   ]
  },
  {
   "cell_type": "markdown",
   "metadata": {},
   "source": [
    "### **HYBRID MODEL (LSTM+LR)**"
   ]
  },
  {
   "cell_type": "markdown",
   "metadata": {},
   "source": [
    "### APPROACH-1"
   ]
  },
  {
   "cell_type": "markdown",
   "metadata": {},
   "source": [
    "**LINEAR REGRESSION**"
   ]
  },
  {
   "cell_type": "markdown",
   "metadata": {},
   "source": []
  },
  {
   "cell_type": "code",
   "execution_count": 14,
   "metadata": {},
   "outputs": [
    {
     "name": "stdout",
     "output_type": "stream",
     "text": [
      "RMSE:0.002739926804601375\n",
      "MAE:0.002459694742372806\n",
      "R2:0.9999039580218739\n"
     ]
    }
   ],
   "source": [
    "#import required libraries\n",
    "from sklearn.linear_model import LinearRegression\n",
    "from sklearn.model_selection import train_test_split\n",
    "from sklearn.metrics import root_mean_squared_error,mean_absolute_error,r2_score\n",
    "\n",
    "#define dependent and independent features\n",
    "x=df.drop(columns='Close')\n",
    "y=df[['Close']]\n",
    "\n",
    "#split the data into training and testing\n",
    "x_train,x_test,y_train,y_test=train_test_split(x,y,train_size=0.8,random_state=42)\n",
    "\n",
    "#initial modelling\n",
    "model_lr11=LinearRegression()\n",
    "model_lr11.fit(x_train,y_train)\n",
    "y_pred_lr11=model_lr11.predict(x_test)\n",
    "\n",
    "#evaluation metrics for linear regression model with all features as predictors\n",
    "rmse_lr11=root_mean_squared_error(y_test,y_pred_lr11)\n",
    "mae_lr11=mean_absolute_error(y_test,y_pred_lr11)\n",
    "r2_lr11=r2_score(y_test,y_pred_lr11)\n",
    "print(f'RMSE:{rmse_lr11}\\nMAE:{mae_lr11}\\nR2:{r2_lr11}')"
   ]
  },
  {
   "cell_type": "code",
   "execution_count": 15,
   "metadata": {},
   "outputs": [
    {
     "data": {
      "text/html": [
       "<div>\n",
       "<style scoped>\n",
       "    .dataframe tbody tr th:only-of-type {\n",
       "        vertical-align: middle;\n",
       "    }\n",
       "\n",
       "    .dataframe tbody tr th {\n",
       "        vertical-align: top;\n",
       "    }\n",
       "\n",
       "    .dataframe thead th {\n",
       "        text-align: right;\n",
       "    }\n",
       "</style>\n",
       "<table border=\"1\" class=\"dataframe\">\n",
       "  <thead>\n",
       "    <tr style=\"text-align: right;\">\n",
       "      <th></th>\n",
       "      <th>Adj Close</th>\n",
       "      <th>High</th>\n",
       "      <th>Low</th>\n",
       "      <th>Open</th>\n",
       "      <th>Volume</th>\n",
       "    </tr>\n",
       "    <tr>\n",
       "      <th>Date</th>\n",
       "      <th></th>\n",
       "      <th></th>\n",
       "      <th></th>\n",
       "      <th></th>\n",
       "      <th></th>\n",
       "    </tr>\n",
       "  </thead>\n",
       "  <tbody>\n",
       "    <tr>\n",
       "      <th>2024-05-20 00:00:00+00:00</th>\n",
       "      <td>0.364886</td>\n",
       "      <td>0.358982</td>\n",
       "      <td>0.354270</td>\n",
       "      <td>0.337129</td>\n",
       "      <td>0.068944</td>\n",
       "    </tr>\n",
       "    <tr>\n",
       "      <th>2024-01-24 00:00:00+00:00</th>\n",
       "      <td>0.405858</td>\n",
       "      <td>0.421719</td>\n",
       "      <td>0.430013</td>\n",
       "      <td>0.422747</td>\n",
       "      <td>0.100407</td>\n",
       "    </tr>\n",
       "    <tr>\n",
       "      <th>2024-08-27 00:00:00+00:00</th>\n",
       "      <td>0.882466</td>\n",
       "      <td>0.878464</td>\n",
       "      <td>0.864147</td>\n",
       "      <td>0.852664</td>\n",
       "      <td>0.040343</td>\n",
       "    </tr>\n",
       "    <tr>\n",
       "      <th>2024-09-13 00:00:00+00:00</th>\n",
       "      <td>0.805547</td>\n",
       "      <td>0.810803</td>\n",
       "      <td>0.821799</td>\n",
       "      <td>0.818642</td>\n",
       "      <td>0.043167</td>\n",
       "    </tr>\n",
       "    <tr>\n",
       "      <th>2024-06-05 00:00:00+00:00</th>\n",
       "      <td>0.431991</td>\n",
       "      <td>0.429034</td>\n",
       "      <td>0.437544</td>\n",
       "      <td>0.422466</td>\n",
       "      <td>0.102190</td>\n",
       "    </tr>\n",
       "    <tr>\n",
       "      <th>...</th>\n",
       "      <td>...</td>\n",
       "      <td>...</td>\n",
       "      <td>...</td>\n",
       "      <td>...</td>\n",
       "      <td>...</td>\n",
       "    </tr>\n",
       "    <tr>\n",
       "      <th>2024-04-08 00:00:00+00:00</th>\n",
       "      <td>0.047867</td>\n",
       "      <td>0.039387</td>\n",
       "      <td>0.059116</td>\n",
       "      <td>0.051736</td>\n",
       "      <td>0.045403</td>\n",
       "    </tr>\n",
       "    <tr>\n",
       "      <th>2023-11-22 00:00:00+00:00</th>\n",
       "      <td>0.361655</td>\n",
       "      <td>0.373189</td>\n",
       "      <td>0.380134</td>\n",
       "      <td>0.367496</td>\n",
       "      <td>0.052844</td>\n",
       "    </tr>\n",
       "    <tr>\n",
       "      <th>2024-03-18 00:00:00+00:00</th>\n",
       "      <td>0.120985</td>\n",
       "      <td>0.159094</td>\n",
       "      <td>0.134148</td>\n",
       "      <td>0.143681</td>\n",
       "      <td>0.174984</td>\n",
       "    </tr>\n",
       "    <tr>\n",
       "      <th>2024-07-23 00:00:00+00:00</th>\n",
       "      <td>0.836841</td>\n",
       "      <td>0.851597</td>\n",
       "      <td>0.832741</td>\n",
       "      <td>0.829748</td>\n",
       "      <td>0.054006</td>\n",
       "    </tr>\n",
       "    <tr>\n",
       "      <th>2024-04-02 00:00:00+00:00</th>\n",
       "      <td>0.053278</td>\n",
       "      <td>0.041356</td>\n",
       "      <td>0.058974</td>\n",
       "      <td>0.052439</td>\n",
       "      <td>0.085806</td>\n",
       "    </tr>\n",
       "  </tbody>\n",
       "</table>\n",
       "<p>201 rows × 5 columns</p>\n",
       "</div>"
      ],
      "text/plain": [
       "                           Adj Close      High       Low      Open    Volume\n",
       "Date                                                                        \n",
       "2024-05-20 00:00:00+00:00   0.364886  0.358982  0.354270  0.337129  0.068944\n",
       "2024-01-24 00:00:00+00:00   0.405858  0.421719  0.430013  0.422747  0.100407\n",
       "2024-08-27 00:00:00+00:00   0.882466  0.878464  0.864147  0.852664  0.040343\n",
       "2024-09-13 00:00:00+00:00   0.805547  0.810803  0.821799  0.818642  0.043167\n",
       "2024-06-05 00:00:00+00:00   0.431991  0.429034  0.437544  0.422466  0.102190\n",
       "...                              ...       ...       ...       ...       ...\n",
       "2024-04-08 00:00:00+00:00   0.047867  0.039387  0.059116  0.051736  0.045403\n",
       "2023-11-22 00:00:00+00:00   0.361655  0.373189  0.380134  0.367496  0.052844\n",
       "2024-03-18 00:00:00+00:00   0.120985  0.159094  0.134148  0.143681  0.174984\n",
       "2024-07-23 00:00:00+00:00   0.836841  0.851597  0.832741  0.829748  0.054006\n",
       "2024-04-02 00:00:00+00:00   0.053278  0.041356  0.058974  0.052439  0.085806\n",
       "\n",
       "[201 rows x 5 columns]"
      ]
     },
     "execution_count": 15,
     "metadata": {},
     "output_type": "execute_result"
    }
   ],
   "source": [
    "x_train"
   ]
  },
  {
   "cell_type": "code",
   "execution_count": 1,
   "metadata": {},
   "outputs": [],
   "source": [
    "# scaler_close=MinMaxScaler()\n",
    "# Close_new=scaler_close.fit(data[[\"Close\"]])\n",
    "\n",
    "# y_pred_true=scaler_close.inverse_transform(y_pred_lr11).reshape(-1)\n",
    "\n"
   ]
  },
  {
   "cell_type": "code",
   "execution_count": null,
   "metadata": {},
   "outputs": [
    {
     "data": {
      "text/plain": [
       "[<matplotlib.lines.Line2D at 0x289485c22d0>]"
      ]
     },
     "execution_count": 28,
     "metadata": {},
     "output_type": "execute_result"
    },
    {
     "data": {
      "image/png": "[encoded data removed]",
      "text/plain": [
       "<Figure size 640x480 with 1 Axes>"
      ]
     },
     "metadata": {},
     "output_type": "display_data"
    }
   ],
   "source": [
    "# plt.plot(x_test.index.date,y_pred_lr11)"
   ]
  },
  {
   "cell_type": "markdown",
   "metadata": {},
   "source": [
    "**LSTM**"
   ]
  },
  {
   "cell_type": "code",
   "execution_count": 19,
   "metadata": {},
   "outputs": [
    {
     "name": "stdout",
     "output_type": "stream",
     "text": [
      "(252, 5)\n",
      "(252, 1)\n"
     ]
    }
   ],
   "source": [
    "print(x.shape)\n",
    "print(y.shape)"
   ]
  },
  {
   "cell_type": "code",
   "execution_count": 20,
   "metadata": {},
   "outputs": [],
   "source": [
    "def create_sequences(features, target, time_steps=60):\n",
    "    X, y = [], []\n",
    "    for i in range(len(features) - time_steps):\n",
    "        X.append(features[i:i+time_steps])\n",
    "        y.append(target[i+time_steps])  \n",
    "    return np.array(X), np.array(y)\n",
    "\n",
    "time_steps = 60  # Use past 60 days for prediction\n",
    "x_array=x.to_numpy()\n",
    "y_array=y.to_numpy()\n",
    "X, y = create_sequences(x_array, y_array, time_steps)\n",
    "\n",
    "# Split into training and testing sets\n",
    "X_train, X_test, y_train, y_test = train_test_split(X, y, test_size=0.2, shuffle=False)\n",
    "\n",
    "# Reshape for LSTM input\n",
    "X_train = X_train.reshape(X_train.shape[0], X_train.shape[1], X_train.shape[2])\n",
    "X_test = X_test.reshape(X_test.shape[0], X_test.shape[1], X_test.shape[2])\n"
   ]
  },
  {
   "cell_type": "code",
   "execution_count": 21,
   "metadata": {},
   "outputs": [
    {
     "name": "stdout",
     "output_type": "stream",
     "text": [
      "(153, 60, 5)\n",
      "(51, 5)\n"
     ]
    }
   ],
   "source": [
    "print(X_train.shape)\n",
    "print(x_test.shape)"
   ]
  },
  {
   "cell_type": "code",
   "execution_count": 22,
   "metadata": {},
   "outputs": [
    {
     "name": "stderr",
     "output_type": "stream",
     "text": [
      "c:\\Users\\hp\\anaconda3\\Lib\\site-packages\\keras\\src\\layers\\rnn\\rnn.py:200: UserWarning: Do not pass an `input_shape`/`input_dim` argument to a layer. When using Sequential models, prefer using an `Input(shape)` object as the first layer in the model instead.\n",
      "  super().__init__(**kwargs)\n"
     ]
    }
   ],
   "source": [
    "import tensorflow as tf\n",
    "tf.random.set_seed(42)\n",
    "from tensorflow.keras.models import Sequential\n",
    "from tensorflow.keras.layers import LSTM,Dense,Dropout\n",
    "model_lstm11 = Sequential([\n",
    "    LSTM(units=50, return_sequences=True, input_shape=(time_steps, X_train.shape[2])),\n",
    "    Dropout(0.2),\n",
    "    LSTM(units=50, return_sequences=True),\n",
    "   \n",
    "    LSTM(units=50),\n",
    "    Dense(units=30),\n",
    "    \n",
    "    Dense(units=1)  # Output layer (Predicting Close price)\n",
    "])\n",
    "\n",
    "model_lstm11.compile(optimizer='adam', loss='mean_squared_error')\n"
   ]
  },
  {
   "cell_type": "code",
   "execution_count": 23,
   "metadata": {},
   "outputs": [
    {
     "name": "stdout",
     "output_type": "stream",
     "text": [
      "Epoch 1/20\n",
      "\u001b[1m6/6\u001b[0m \u001b[32m━━━━━━━━━━━━━━━━━━━━\u001b[0m\u001b[37m\u001b[0m \u001b[1m9s\u001b[0m 242ms/step - loss: 0.1147 - val_loss: 0.0075\n",
      "Epoch 2/20\n",
      "\u001b[1m6/6\u001b[0m \u001b[32m━━━━━━━━━━━━━━━━━━━━\u001b[0m\u001b[37m\u001b[0m \u001b[1m0s\u001b[0m 48ms/step - loss: 0.0232 - val_loss: 0.0752\n",
      "Epoch 3/20\n",
      "\u001b[1m6/6\u001b[0m \u001b[32m━━━━━━━━━━━━━━━━━━━━\u001b[0m\u001b[37m\u001b[0m \u001b[1m0s\u001b[0m 47ms/step - loss: 0.0226 - val_loss: 0.0061\n",
      "Epoch 4/20\n",
      "\u001b[1m6/6\u001b[0m \u001b[32m━━━━━━━━━━━━━━━━━━━━\u001b[0m\u001b[37m\u001b[0m \u001b[1m0s\u001b[0m 47ms/step - loss: 0.0147 - val_loss: 0.0067\n",
      "Epoch 5/20\n",
      "\u001b[1m6/6\u001b[0m \u001b[32m━━━━━━━━━━━━━━━━━━━━\u001b[0m\u001b[37m\u001b[0m \u001b[1m0s\u001b[0m 43ms/step - loss: 0.0125 - val_loss: 0.0072\n",
      "Epoch 6/20\n",
      "\u001b[1m6/6\u001b[0m \u001b[32m━━━━━━━━━━━━━━━━━━━━\u001b[0m\u001b[37m\u001b[0m \u001b[1m0s\u001b[0m 45ms/step - loss: 0.0099 - val_loss: 0.0056\n",
      "Epoch 7/20\n",
      "\u001b[1m6/6\u001b[0m \u001b[32m━━━━━━━━━━━━━━━━━━━━\u001b[0m\u001b[37m\u001b[0m \u001b[1m0s\u001b[0m 47ms/step - loss: 0.0101 - val_loss: 0.0076\n",
      "Epoch 8/20\n",
      "\u001b[1m6/6\u001b[0m \u001b[32m━━━━━━━━━━━━━━━━━━━━\u001b[0m\u001b[37m\u001b[0m \u001b[1m0s\u001b[0m 44ms/step - loss: 0.0092 - val_loss: 0.0041\n",
      "Epoch 9/20\n",
      "\u001b[1m6/6\u001b[0m \u001b[32m━━━━━━━━━━━━━━━━━━━━\u001b[0m\u001b[37m\u001b[0m \u001b[1m0s\u001b[0m 46ms/step - loss: 0.0083 - val_loss: 0.0081\n",
      "Epoch 10/20\n",
      "\u001b[1m6/6\u001b[0m \u001b[32m━━━━━━━━━━━━━━━━━━━━\u001b[0m\u001b[37m\u001b[0m \u001b[1m0s\u001b[0m 46ms/step - loss: 0.0080 - val_loss: 0.0049\n",
      "Epoch 11/20\n",
      "\u001b[1m6/6\u001b[0m \u001b[32m━━━━━━━━━━━━━━━━━━━━\u001b[0m\u001b[37m\u001b[0m \u001b[1m0s\u001b[0m 48ms/step - loss: 0.0083 - val_loss: 0.0041\n",
      "Epoch 12/20\n",
      "\u001b[1m6/6\u001b[0m \u001b[32m━━━━━━━━━━━━━━━━━━━━\u001b[0m\u001b[37m\u001b[0m \u001b[1m0s\u001b[0m 49ms/step - loss: 0.0087 - val_loss: 0.0087\n",
      "Epoch 13/20\n",
      "\u001b[1m6/6\u001b[0m \u001b[32m━━━━━━━━━━━━━━━━━━━━\u001b[0m\u001b[37m\u001b[0m \u001b[1m0s\u001b[0m 45ms/step - loss: 0.0071 - val_loss: 0.0039\n",
      "Epoch 14/20\n",
      "\u001b[1m6/6\u001b[0m \u001b[32m━━━━━━━━━━━━━━━━━━━━\u001b[0m\u001b[37m\u001b[0m \u001b[1m0s\u001b[0m 47ms/step - loss: 0.0081 - val_loss: 0.0038\n",
      "Epoch 15/20\n",
      "\u001b[1m6/6\u001b[0m \u001b[32m━━━━━━━━━━━━━━━━━━━━\u001b[0m\u001b[37m\u001b[0m \u001b[1m0s\u001b[0m 52ms/step - loss: 0.0071 - val_loss: 0.0053\n",
      "Epoch 16/20\n",
      "\u001b[1m6/6\u001b[0m \u001b[32m━━━━━━━━━━━━━━━━━━━━\u001b[0m\u001b[37m\u001b[0m \u001b[1m0s\u001b[0m 52ms/step - loss: 0.0070 - val_loss: 0.0055\n",
      "Epoch 17/20\n",
      "\u001b[1m6/6\u001b[0m \u001b[32m━━━━━━━━━━━━━━━━━━━━\u001b[0m\u001b[37m\u001b[0m \u001b[1m0s\u001b[0m 63ms/step - loss: 0.0072 - val_loss: 0.0040\n",
      "Epoch 18/20\n",
      "\u001b[1m6/6\u001b[0m \u001b[32m━━━━━━━━━━━━━━━━━━━━\u001b[0m\u001b[37m\u001b[0m \u001b[1m0s\u001b[0m 61ms/step - loss: 0.0068 - val_loss: 0.0048\n",
      "Epoch 19/20\n",
      "\u001b[1m6/6\u001b[0m \u001b[32m━━━━━━━━━━━━━━━━━━━━\u001b[0m\u001b[37m\u001b[0m \u001b[1m0s\u001b[0m 60ms/step - loss: 0.0061 - val_loss: 0.0041\n",
      "Epoch 20/20\n",
      "\u001b[1m6/6\u001b[0m \u001b[32m━━━━━━━━━━━━━━━━━━━━\u001b[0m\u001b[37m\u001b[0m \u001b[1m0s\u001b[0m 62ms/step - loss: 0.0066 - val_loss: 0.0037\n"
     ]
    },
    {
     "data": {
      "text/plain": [
       "<keras.src.callbacks.history.History at 0x1c53d6d6900>"
      ]
     },
     "execution_count": 23,
     "metadata": {},
     "output_type": "execute_result"
    }
   ],
   "source": [
    "model_lstm11.fit(X_train, y_train, epochs=20, batch_size=30, validation_data=(X_test, y_test))\n"
   ]
  },
  {
   "cell_type": "code",
   "execution_count": 24,
   "metadata": {},
   "outputs": [
    {
     "name": "stdout",
     "output_type": "stream",
     "text": [
      "\u001b[1m2/2\u001b[0m \u001b[32m━━━━━━━━━━━━━━━━━━━━\u001b[0m\u001b[37m\u001b[0m \u001b[1m1s\u001b[0m 707ms/step\n"
     ]
    }
   ],
   "source": [
    "y_pred_lstm11 = model_lstm11.predict(X_test)\n"
   ]
  },
  {
   "cell_type": "code",
   "execution_count": 25,
   "metadata": {},
   "outputs": [
    {
     "name": "stdout",
     "output_type": "stream",
     "text": [
      "MAE_LSTM11: 0.05, RMSE_LSTM11: 0.06, R2_LSTM11: 0.21\n"
     ]
    }
   ],
   "source": [
    "from sklearn.metrics import mean_absolute_error, root_mean_squared_error,r2_score\n",
    "\n",
    "mae_lstm11 = mean_absolute_error(y_test, y_pred_lstm11)\n",
    "rmse_lstm11 = root_mean_squared_error(y_test, y_pred_lstm11)\n",
    "r2_lstm11=r2_score(y_test,y_pred_lstm11)\n",
    "print(f\"MAE_LSTM11: {mae_lstm11:.2f}, RMSE_LSTM11: {rmse_lstm11:.2f}, R2_LSTM11: {r2_lstm11:.2f}\")\n"
   ]
  },
  {
   "cell_type": "markdown",
   "metadata": {},
   "source": [
    "**HYBRID**"
   ]
  },
  {
   "cell_type": "code",
   "execution_count": null,
   "metadata": {},
   "outputs": [],
   "source": [
    "# Reshape Linear Regression predictions to match LSTM predictions\n",
    "y_pred_lr11 = y_pred_lr11[-len(y_pred_lstm11):]  # Ensure equal length\n",
    "\n",
    "# Convert to NumPy arrays\n",
    "y_pred_lr11 = np.array(y_pred_lr11)\n",
    "y_pred_lstm11 = np.array(y_pred_lstm11)\n",
    "\n",
    "# Hybrid Prediction: Weighted Average of Linear Regression & LSTM\n",
    "alpha = 0.6  # Weight for LSTM (Adjustable)\n",
    "y_pred_h11 = alpha * y_pred_lstm11 + (1 - alpha) * y_pred_lr11\n"
   ]
  },
  {
   "cell_type": "code",
   "execution_count": 27,
   "metadata": {},
   "outputs": [
    {
     "data": {
      "text/plain": [
       "array([[0.8694738 ],\n",
       "       [0.8664523 ],\n",
       "       [0.86285996],\n",
       "       [0.8592843 ],\n",
       "       [0.85618854],\n",
       "       [0.8518454 ],\n",
       "       [0.84624636],\n",
       "       [0.8407903 ],\n",
       "       [0.8378649 ],\n",
       "       [0.8399368 ],\n",
       "       [0.8446343 ],\n",
       "       [0.85144854],\n",
       "       [0.858811  ],\n",
       "       [0.8662554 ],\n",
       "       [0.8735055 ],\n",
       "       [0.8810902 ],\n",
       "       [0.88768196],\n",
       "       [0.89257807],\n",
       "       [0.89570767],\n",
       "       [0.8976192 ],\n",
       "       [0.8977368 ],\n",
       "       [0.8966824 ],\n",
       "       [0.89536506],\n",
       "       [0.8942659 ],\n",
       "       [0.89353305],\n",
       "       [0.8936088 ],\n",
       "       [0.89565104],\n",
       "       [0.8984353 ],\n",
       "       [0.90191305],\n",
       "       [0.90657824],\n",
       "       [0.9120269 ],\n",
       "       [0.91764075],\n",
       "       [0.92256725],\n",
       "       [0.92615974],\n",
       "       [0.92877334],\n",
       "       [0.93112934],\n",
       "       [0.93323755],\n",
       "       [0.93478084],\n",
       "       [0.9350584 ]], dtype=float32)"
      ]
     },
     "execution_count": 27,
     "metadata": {},
     "output_type": "execute_result"
    }
   ],
   "source": [
    "y_pred_lstm11"
   ]
  },
  {
   "cell_type": "code",
   "execution_count": 22,
   "metadata": {},
   "outputs": [
    {
     "data": {
      "text/plain": [
       "(39, 1)"
      ]
     },
     "execution_count": 22,
     "metadata": {},
     "output_type": "execute_result"
    }
   ],
   "source": [
    "y_test.shape\n",
    "y_pred_h11.shape"
   ]
  },
  {
   "cell_type": "code",
   "execution_count": 23,
   "metadata": {},
   "outputs": [
    {
     "name": "stdout",
     "output_type": "stream",
     "text": [
      "MAE_H11: 0.19, RMSE_H11: 0.21, R2_H11: -8.5120\n"
     ]
    }
   ],
   "source": [
    "# # Reverse scaling to original stock prices\n",
    "# y_test_actual = scaler.inverse_transform(y_test.reshape(-1, 1))\n",
    "# y_pred_hybrid_actual = scaler.inverse_transform(y_pred_hybrid)\n",
    "\n",
    "# Evaluation Metrics\n",
    "mae_h11 = mean_absolute_error(y_test, y_pred_h11)\n",
    "rmse_h11 = root_mean_squared_error(y_test, y_pred_h11)\n",
    "r2_h11 = r2_score(y_test, y_pred_h11)\n",
    "\n",
    "print(f\"MAE_H11: {mae_h11:.2f}, RMSE_H11: {rmse_h11:.2f}, R2_H11: {r2_h11:.4f}\")"
   ]
  },
  {
   "cell_type": "code",
   "execution_count": null,
   "metadata": {},
   "outputs": [
    {
     "data": {
      "text/html": [
       "<div>\n",
       "<style scoped>\n",
       "    .dataframe tbody tr th:only-of-type {\n",
       "        vertical-align: middle;\n",
       "    }\n",
       "\n",
       "    .dataframe tbody tr th {\n",
       "        vertical-align: top;\n",
       "    }\n",
       "\n",
       "    .dataframe thead th {\n",
       "        text-align: right;\n",
       "    }\n",
       "</style>\n",
       "<table border=\"1\" class=\"dataframe\">\n",
       "  <thead>\n",
       "    <tr style=\"text-align: right;\">\n",
       "      <th></th>\n",
       "      <th>Adj Close</th>\n",
       "      <th>Close</th>\n",
       "      <th>High</th>\n",
       "      <th>Low</th>\n",
       "      <th>Open</th>\n",
       "      <th>Volume</th>\n",
       "    </tr>\n",
       "    <tr>\n",
       "      <th>Date</th>\n",
       "      <th></th>\n",
       "      <th></th>\n",
       "      <th></th>\n",
       "      <th></th>\n",
       "      <th></th>\n",
       "      <th></th>\n",
       "    </tr>\n",
       "  </thead>\n",
       "  <tbody>\n",
       "    <tr>\n",
       "      <th>2023-11-02 00:00:00+00:00</th>\n",
       "      <td>0.168025</td>\n",
       "      <td>0.175853</td>\n",
       "      <td>0.160079</td>\n",
       "      <td>0.161717</td>\n",
       "      <td>0.142978</td>\n",
       "      <td>0.180858</td>\n",
       "    </tr>\n",
       "    <tr>\n",
       "      <th>2023-11-03 00:00:00+00:00</th>\n",
       "      <td>0.155294</td>\n",
       "      <td>0.162983</td>\n",
       "      <td>0.146575</td>\n",
       "      <td>0.131732</td>\n",
       "      <td>0.124982</td>\n",
       "      <td>0.189102</td>\n",
       "    </tr>\n",
       "    <tr>\n",
       "      <th>2023-11-06 00:00:00+00:00</th>\n",
       "      <td>0.190997</td>\n",
       "      <td>0.199077</td>\n",
       "      <td>0.183289</td>\n",
       "      <td>0.172375</td>\n",
       "      <td>0.155068</td>\n",
       "      <td>0.135060</td>\n",
       "    </tr>\n",
       "    <tr>\n",
       "      <th>2023-11-07 00:00:00+00:00</th>\n",
       "      <td>0.226839</td>\n",
       "      <td>0.235311</td>\n",
       "      <td>0.225630</td>\n",
       "      <td>0.211596</td>\n",
       "      <td>0.194433</td>\n",
       "      <td>0.157762</td>\n",
       "    </tr>\n",
       "    <tr>\n",
       "      <th>2023-11-08 00:00:00+00:00</th>\n",
       "      <td>0.241646</td>\n",
       "      <td>0.250280</td>\n",
       "      <td>0.239837</td>\n",
       "      <td>0.248828</td>\n",
       "      <td>0.238999</td>\n",
       "      <td>0.085843</td>\n",
       "    </tr>\n",
       "    <tr>\n",
       "      <th>...</th>\n",
       "      <td>...</td>\n",
       "      <td>...</td>\n",
       "      <td>...</td>\n",
       "      <td>...</td>\n",
       "      <td>...</td>\n",
       "      <td>...</td>\n",
       "    </tr>\n",
       "    <tr>\n",
       "      <th>2024-10-28 00:00:00+00:00</th>\n",
       "      <td>0.957159</td>\n",
       "      <td>0.956911</td>\n",
       "      <td>0.961176</td>\n",
       "      <td>0.973000</td>\n",
       "      <td>0.955574</td>\n",
       "      <td>0.040861</td>\n",
       "    </tr>\n",
       "    <tr>\n",
       "      <th>2024-10-29 00:00:00+00:00</th>\n",
       "      <td>0.960915</td>\n",
       "      <td>0.960688</td>\n",
       "      <td>0.955549</td>\n",
       "      <td>0.969732</td>\n",
       "      <td>0.952482</td>\n",
       "      <td>0.038587</td>\n",
       "    </tr>\n",
       "    <tr>\n",
       "      <th>2024-10-30 00:00:00+00:00</th>\n",
       "      <td>0.911258</td>\n",
       "      <td>0.910744</td>\n",
       "      <td>0.943452</td>\n",
       "      <td>0.930368</td>\n",
       "      <td>0.945593</td>\n",
       "      <td>0.078140</td>\n",
       "    </tr>\n",
       "    <tr>\n",
       "      <th>2024-10-31 00:00:00+00:00</th>\n",
       "      <td>0.852978</td>\n",
       "      <td>0.852127</td>\n",
       "      <td>0.892249</td>\n",
       "      <td>0.870968</td>\n",
       "      <td>0.899620</td>\n",
       "      <td>0.136855</td>\n",
       "    </tr>\n",
       "    <tr>\n",
       "      <th>2024-11-01 00:00:00+00:00</th>\n",
       "      <td>0.811250</td>\n",
       "      <td>0.810157</td>\n",
       "      <td>0.829231</td>\n",
       "      <td>0.798494</td>\n",
       "      <td>0.781949</td>\n",
       "      <td>0.139815</td>\n",
       "    </tr>\n",
       "  </tbody>\n",
       "</table>\n",
       "<p>252 rows × 6 columns</p>\n",
       "</div>"
      ],
      "text/plain": [
       "                           Adj Close     Close      High       Low      Open  \\\n",
       "Date                                                                           \n",
       "2023-11-02 00:00:00+00:00   0.168025  0.175853  0.160079  0.161717  0.142978   \n",
       "2023-11-03 00:00:00+00:00   0.155294  0.162983  0.146575  0.131732  0.124982   \n",
       "2023-11-06 00:00:00+00:00   0.190997  0.199077  0.183289  0.172375  0.155068   \n",
       "2023-11-07 00:00:00+00:00   0.226839  0.235311  0.225630  0.211596  0.194433   \n",
       "2023-11-08 00:00:00+00:00   0.241646  0.250280  0.239837  0.248828  0.238999   \n",
       "...                              ...       ...       ...       ...       ...   \n",
       "2024-10-28 00:00:00+00:00   0.957159  0.956911  0.961176  0.973000  0.955574   \n",
       "2024-10-29 00:00:00+00:00   0.960915  0.960688  0.955549  0.969732  0.952482   \n",
       "2024-10-30 00:00:00+00:00   0.911258  0.910744  0.943452  0.930368  0.945593   \n",
       "2024-10-31 00:00:00+00:00   0.852978  0.852127  0.892249  0.870968  0.899620   \n",
       "2024-11-01 00:00:00+00:00   0.811250  0.810157  0.829231  0.798494  0.781949   \n",
       "\n",
       "                             Volume  \n",
       "Date                                 \n",
       "2023-11-02 00:00:00+00:00  0.180858  \n",
       "2023-11-03 00:00:00+00:00  0.189102  \n",
       "2023-11-06 00:00:00+00:00  0.135060  \n",
       "2023-11-07 00:00:00+00:00  0.157762  \n",
       "2023-11-08 00:00:00+00:00  0.085843  \n",
       "...                             ...  \n",
       "2024-10-28 00:00:00+00:00  0.040861  \n",
       "2024-10-29 00:00:00+00:00  0.038587  \n",
       "2024-10-30 00:00:00+00:00  0.078140  \n",
       "2024-10-31 00:00:00+00:00  0.136855  \n",
       "2024-11-01 00:00:00+00:00  0.139815  \n",
       "\n",
       "[252 rows x 6 columns]"
      ]
     },
     "execution_count": 24,
     "metadata": {},
     "output_type": "execute_result"
    }
   ],
   "source": []
  },
  {
   "cell_type": "markdown",
   "metadata": {},
   "source": [
    "### APPROACH 2"
   ]
  },
  {
   "cell_type": "markdown",
   "metadata": {},
   "source": [
    "**LINEAR REGRESSION**"
   ]
  },
  {
   "cell_type": "code",
   "execution_count": 24,
   "metadata": {},
   "outputs": [
    {
     "data": {
      "text/plain": [
       "Index(['Adj Close', 'Close', 'High', 'Low', 'Open', 'Volume'], dtype='object')"
      ]
     },
     "execution_count": 24,
     "metadata": {},
     "output_type": "execute_result"
    }
   ],
   "source": [
    "df.columns"
   ]
  },
  {
   "cell_type": "code",
   "execution_count": 25,
   "metadata": {},
   "outputs": [
    {
     "name": "stdout",
     "output_type": "stream",
     "text": [
      "RMSE_LR12:0.012423550636731801\n",
      "MAE_LR12:0.010099101693279254\n",
      "R2_LR12:0.9980254204122807\n"
     ]
    }
   ],
   "source": [
    "x=df[['Open','High','Low']]\n",
    "y=df[['Close']]\n",
    "\n",
    "x_train,x_test,y_train,y_test=train_test_split(x,y,train_size=0.8,random_state=42)\n",
    "\n",
    "model_lr12=LinearRegression()\n",
    "model_lr12.fit(x_train,y_train)\n",
    "y_pred_lr12=model_lr12.predict(x_test)\n",
    "\n",
    "mae_lr12=mean_absolute_error(y_test,y_pred_lr12)\n",
    "rmse_lr12=root_mean_squared_error(y_test,y_pred_lr12)\n",
    "r2_lr12=r2_score(y_test,y_pred_lr12)\n",
    "print(f\"RMSE_LR12:{rmse_lr12}\\nMAE_LR12:{mae_lr12}\\nR2_LR12:{r2_lr12}\")"
   ]
  },
  {
   "cell_type": "code",
   "execution_count": 26,
   "metadata": {},
   "outputs": [],
   "source": [
    "#LSTM\n",
    "def create_sequences(features, target, time_steps=60):\n",
    "    X, y = [], []\n",
    "    for i in range(len(features) - time_steps):\n",
    "        X.append(features[i:i+time_steps])\n",
    "        y.append(target[i+time_steps])  \n",
    "    return np.array(X), np.array(y)\n",
    "\n",
    "time_steps = 60  # Use past 60 days for prediction\n",
    "x_array=x.to_numpy()\n",
    "y_array=y.to_numpy()\n",
    "X, y = create_sequences(x_array, y_array, time_steps)\n",
    "\n",
    "# Split into training and testing sets\n",
    "X_train, X_test, y_train, y_test = train_test_split(X, y, test_size=0.2, shuffle=False)\n",
    "\n",
    "# Reshape for LSTM input\n",
    "X_train = X_train.reshape(X_train.shape[0], X_train.shape[1], X_train.shape[2])\n",
    "X_test = X_test.reshape(X_test.shape[0], X_test.shape[1], X_test.shape[2])\n"
   ]
  },
  {
   "cell_type": "code",
   "execution_count": 27,
   "metadata": {},
   "outputs": [
    {
     "name": "stderr",
     "output_type": "stream",
     "text": [
      "c:\\Users\\hp\\anaconda3\\Lib\\site-packages\\keras\\src\\layers\\rnn\\rnn.py:200: UserWarning: Do not pass an `input_shape`/`input_dim` argument to a layer. When using Sequential models, prefer using an `Input(shape)` object as the first layer in the model instead.\n",
      "  super().__init__(**kwargs)\n"
     ]
    }
   ],
   "source": [
    "from tensorflow.keras.models import Sequential\n",
    "from tensorflow.keras.layers import LSTM,Dense,Dropout\n",
    "model_lstm12 = Sequential([\n",
    "    LSTM(units=50, return_sequences=True, input_shape=(time_steps, X_train.shape[2])),\n",
    "    Dropout(0.2),\n",
    "    LSTM(units=50, return_sequences=True),\n",
    "   \n",
    "    LSTM(units=50),\n",
    "    Dense(units=30),\n",
    "    \n",
    "    Dense(units=1)  # Output layer (Predicting Close price)\n",
    "])\n",
    "\n",
    "model_lstm12.compile(optimizer='adam', loss='mean_squared_error')\n"
   ]
  },
  {
   "cell_type": "code",
   "execution_count": 28,
   "metadata": {},
   "outputs": [
    {
     "name": "stdout",
     "output_type": "stream",
     "text": [
      "Epoch 1/20\n",
      "\u001b[1m6/6\u001b[0m \u001b[32m━━━━━━━━━━━━━━━━━━━━\u001b[0m\u001b[37m\u001b[0m \u001b[1m6s\u001b[0m 130ms/step - loss: 0.1926 - val_loss: 0.0324\n",
      "Epoch 2/20\n",
      "\u001b[1m6/6\u001b[0m \u001b[32m━━━━━━━━━━━━━━━━━━━━\u001b[0m\u001b[37m\u001b[0m \u001b[1m0s\u001b[0m 36ms/step - loss: 0.0355 - val_loss: 0.0503\n",
      "Epoch 3/20\n",
      "\u001b[1m6/6\u001b[0m \u001b[32m━━━━━━━━━━━━━━━━━━━━\u001b[0m\u001b[37m\u001b[0m \u001b[1m0s\u001b[0m 37ms/step - loss: 0.0263 - val_loss: 0.0202\n",
      "Epoch 4/20\n",
      "\u001b[1m6/6\u001b[0m \u001b[32m━━━━━━━━━━━━━━━━━━━━\u001b[0m\u001b[37m\u001b[0m \u001b[1m0s\u001b[0m 34ms/step - loss: 0.0139 - val_loss: 0.0081\n",
      "Epoch 5/20\n",
      "\u001b[1m6/6\u001b[0m \u001b[32m━━━━━━━━━━━━━━━━━━━━\u001b[0m\u001b[37m\u001b[0m \u001b[1m0s\u001b[0m 36ms/step - loss: 0.0133 - val_loss: 0.0140\n",
      "Epoch 6/20\n",
      "\u001b[1m6/6\u001b[0m \u001b[32m━━━━━━━━━━━━━━━━━━━━\u001b[0m\u001b[37m\u001b[0m \u001b[1m0s\u001b[0m 35ms/step - loss: 0.0128 - val_loss: 0.0043\n",
      "Epoch 7/20\n",
      "\u001b[1m6/6\u001b[0m \u001b[32m━━━━━━━━━━━━━━━━━━━━\u001b[0m\u001b[37m\u001b[0m \u001b[1m0s\u001b[0m 35ms/step - loss: 0.0105 - val_loss: 0.0043\n",
      "Epoch 8/20\n",
      "\u001b[1m6/6\u001b[0m \u001b[32m━━━━━━━━━━━━━━━━━━━━\u001b[0m\u001b[37m\u001b[0m \u001b[1m0s\u001b[0m 35ms/step - loss: 0.0102 - val_loss: 0.0047\n",
      "Epoch 9/20\n",
      "\u001b[1m6/6\u001b[0m \u001b[32m━━━━━━━━━━━━━━━━━━━━\u001b[0m\u001b[37m\u001b[0m \u001b[1m0s\u001b[0m 37ms/step - loss: 0.0096 - val_loss: 0.0049\n",
      "Epoch 10/20\n",
      "\u001b[1m6/6\u001b[0m \u001b[32m━━━━━━━━━━━━━━━━━━━━\u001b[0m\u001b[37m\u001b[0m \u001b[1m0s\u001b[0m 34ms/step - loss: 0.0095 - val_loss: 0.0049\n",
      "Epoch 11/20\n",
      "\u001b[1m6/6\u001b[0m \u001b[32m━━━━━━━━━━━━━━━━━━━━\u001b[0m\u001b[37m\u001b[0m \u001b[1m0s\u001b[0m 34ms/step - loss: 0.0089 - val_loss: 0.0047\n",
      "Epoch 12/20\n",
      "\u001b[1m6/6\u001b[0m \u001b[32m━━━━━━━━━━━━━━━━━━━━\u001b[0m\u001b[37m\u001b[0m \u001b[1m0s\u001b[0m 35ms/step - loss: 0.0087 - val_loss: 0.0049\n",
      "Epoch 13/20\n",
      "\u001b[1m6/6\u001b[0m \u001b[32m━━━━━━━━━━━━━━━━━━━━\u001b[0m\u001b[37m\u001b[0m \u001b[1m0s\u001b[0m 34ms/step - loss: 0.0083 - val_loss: 0.0064\n",
      "Epoch 14/20\n",
      "\u001b[1m6/6\u001b[0m \u001b[32m━━━━━━━━━━━━━━━━━━━━\u001b[0m\u001b[37m\u001b[0m \u001b[1m0s\u001b[0m 34ms/step - loss: 0.0090 - val_loss: 0.0045\n",
      "Epoch 15/20\n",
      "\u001b[1m6/6\u001b[0m \u001b[32m━━━━━━━━━━━━━━━━━━━━\u001b[0m\u001b[37m\u001b[0m \u001b[1m0s\u001b[0m 40ms/step - loss: 0.0083 - val_loss: 0.0047\n",
      "Epoch 16/20\n",
      "\u001b[1m6/6\u001b[0m \u001b[32m━━━━━━━━━━━━━━━━━━━━\u001b[0m\u001b[37m\u001b[0m \u001b[1m0s\u001b[0m 38ms/step - loss: 0.0075 - val_loss: 0.0043\n",
      "Epoch 17/20\n",
      "\u001b[1m6/6\u001b[0m \u001b[32m━━━━━━━━━━━━━━━━━━━━\u001b[0m\u001b[37m\u001b[0m \u001b[1m0s\u001b[0m 47ms/step - loss: 0.0082 - val_loss: 0.0045\n",
      "Epoch 18/20\n",
      "\u001b[1m6/6\u001b[0m \u001b[32m━━━━━━━━━━━━━━━━━━━━\u001b[0m\u001b[37m\u001b[0m \u001b[1m0s\u001b[0m 40ms/step - loss: 0.0079 - val_loss: 0.0047\n",
      "Epoch 19/20\n",
      "\u001b[1m6/6\u001b[0m \u001b[32m━━━━━━━━━━━━━━━━━━━━\u001b[0m\u001b[37m\u001b[0m \u001b[1m0s\u001b[0m 37ms/step - loss: 0.0078 - val_loss: 0.0047\n",
      "Epoch 20/20\n",
      "\u001b[1m6/6\u001b[0m \u001b[32m━━━━━━━━━━━━━━━━━━━━\u001b[0m\u001b[37m\u001b[0m \u001b[1m0s\u001b[0m 36ms/step - loss: 0.0070 - val_loss: 0.0043\n",
      "\u001b[1m2/2\u001b[0m \u001b[32m━━━━━━━━━━━━━━━━━━━━\u001b[0m\u001b[37m\u001b[0m \u001b[1m1s\u001b[0m 386ms/step\n"
     ]
    }
   ],
   "source": [
    "model_lstm12.fit(X_train, y_train, epochs=20, batch_size=30, validation_data=(X_test, y_test))\n",
    "y_pred_lstm12=model_lstm12.predict(X_test)"
   ]
  },
  {
   "cell_type": "code",
   "execution_count": 29,
   "metadata": {},
   "outputs": [
    {
     "name": "stdout",
     "output_type": "stream",
     "text": [
      "MAE_LSTM12: 0.06\n",
      "RMSE_LSTM12: 0.07\n",
      "R2_LSTM12: 0.08\n"
     ]
    }
   ],
   "source": [
    "\n",
    "from sklearn.metrics import mean_absolute_error, mean_squared_error,r2_score\n",
    "\n",
    "mae_lstm12 = mean_absolute_error(y_test, y_pred_lstm12)\n",
    "rmse_lstm12 = root_mean_squared_error(y_test, y_pred_lstm12)\n",
    "r2_lstm12=r2_score(y_test,y_pred_lstm12)\n",
    "print(f\"MAE_LSTM12: {mae_lstm12:.2f}\\nRMSE_LSTM12: {rmse_lstm12:.2f}\\nR2_LSTM12: {r2_lstm12:.2f}\")\n"
   ]
  },
  {
   "cell_type": "code",
   "execution_count": null,
   "metadata": {},
   "outputs": [],
   "source": []
  },
  {
   "cell_type": "code",
   "execution_count": 30,
   "metadata": {},
   "outputs": [
    {
     "name": "stdout",
     "output_type": "stream",
     "text": [
      "MAE_H12: 0.19412037708135885\n",
      "RMSE_H12: 0.22052284098585948\n",
      "R2_H12: -9.377730284053273\n"
     ]
    }
   ],
   "source": [
    "#hybrid\n",
    "# Reshape Linear Regression predictions to match LSTM predictions\n",
    "y_pred_lr12= y_pred_lr12[-len(y_pred_lstm12):]  # Ensure equal length\n",
    "\n",
    "# Convert to NumPy arrays\n",
    "y_pred_lr12 = np.array(y_pred_lr12)\n",
    "y_pred_lstm = np.array(y_pred_lstm12)\n",
    "\n",
    "# Hybrid Prediction: Weighted Average of Linear Regression & LSTM\n",
    "alpha = 0.6  # Weight for LSTM (Adjustable)\n",
    "y_pred_hybrid = alpha * y_pred_lstm + (1 - alpha) * y_pred_lr12\n",
    "\n",
    "\n",
    "# Evaluation Metrics\n",
    "mae_h12 = mean_absolute_error(y_test, y_pred_hybrid)\n",
    "rmse_h12 = root_mean_squared_error(y_test, y_pred_hybrid)\n",
    "r2_h12 = r2_score(y_test, y_pred_hybrid)\n",
    "\n",
    "print(f\"MAE_H12: {mae_h12}\\nRMSE_H12: {rmse_h12}\\nR2_H12: {r2_h12}\")"
   ]
  },
  {
   "cell_type": "markdown",
   "metadata": {},
   "source": [
    "### APPROACH-3"
   ]
  },
  {
   "cell_type": "code",
   "execution_count": 31,
   "metadata": {},
   "outputs": [],
   "source": [
    "data=df[['Close']]\n",
    "from warnings import filterwarnings\n",
    "filterwarnings('ignore')"
   ]
  },
  {
   "cell_type": "code",
   "execution_count": 32,
   "metadata": {},
   "outputs": [],
   "source": [
    "data['Lag_1']=df['Close'].shift(1)\n",
    "data['Lag_2']=df['Close'].shift(2)\n",
    "data['Lag_3']=df['Close'].shift(3)\n",
    "data.dropna(inplace=True)"
   ]
  },
  {
   "cell_type": "code",
   "execution_count": 33,
   "metadata": {},
   "outputs": [],
   "source": [
    "x=data[['Lag_1','Lag_2','Lag_3']]\n",
    "y=df[['Close']]"
   ]
  },
  {
   "cell_type": "code",
   "execution_count": 34,
   "metadata": {},
   "outputs": [
    {
     "data": {
      "text/plain": [
       "<Axes: >"
      ]
     },
     "execution_count": 34,
     "metadata": {},
     "output_type": "execute_result"
    },
    {
     "data": {
      "image/png": "[encoded data removed]",
      "text/plain": [
       "<Figure size 640x480 with 2 Axes>"
      ]
     },
     "metadata": {},
     "output_type": "display_data"
    }
   ],
   "source": [
    "cor=data.corr()\n",
    "sns.heatmap(cor,annot=True)"
   ]
  },
  {
   "cell_type": "code",
   "execution_count": 35,
   "metadata": {},
   "outputs": [
    {
     "name": "stdout",
     "output_type": "stream",
     "text": [
      "199\n"
     ]
    }
   ],
   "source": [
    "train_size=int(len(x)*0.8)\n",
    "print(train_size)\n",
    "x_train,x_test=x[:train_size],x[train_size:]\n",
    "y_train,y_test=y[:train_size],y[train_size:]\n"
   ]
  },
  {
   "cell_type": "code",
   "execution_count": 36,
   "metadata": {},
   "outputs": [
    {
     "data": {
      "text/plain": [
       "(50, 3)"
      ]
     },
     "execution_count": 36,
     "metadata": {},
     "output_type": "execute_result"
    }
   ],
   "source": [
    "x_test.shape"
   ]
  },
  {
   "cell_type": "code",
   "execution_count": 37,
   "metadata": {},
   "outputs": [
    {
     "data": {
      "text/html": [
       "<style>#sk-container-id-1 {\n",
       "  /* Definition of color scheme common for light and dark mode */\n",
       "  --sklearn-color-text: black;\n",
       "  --sklearn-color-line: gray;\n",
       "  /* Definition of color scheme for unfitted estimators */\n",
       "  --sklearn-color-unfitted-level-0: #fff5e6;\n",
       "  --sklearn-color-unfitted-level-1: #f6e4d2;\n",
       "  --sklearn-color-unfitted-level-2: #ffe0b3;\n",
       "  --sklearn-color-unfitted-level-3: chocolate;\n",
       "  /* Definition of color scheme for fitted estimators */\n",
       "  --sklearn-color-fitted-level-0: #f0f8ff;\n",
       "  --sklearn-color-fitted-level-1: #d4ebff;\n",
       "  --sklearn-color-fitted-level-2: #b3dbfd;\n",
       "  --sklearn-color-fitted-level-3: cornflowerblue;\n",
       "\n",
       "  /* Specific color for light theme */\n",
       "  --sklearn-color-text-on-default-background: var(--sg-text-color, var(--theme-code-foreground, var(--jp-content-font-color1, black)));\n",
       "  --sklearn-color-background: var(--sg-background-color, var(--theme-background, var(--jp-layout-color0, white)));\n",
       "  --sklearn-color-border-box: var(--sg-text-color, var(--theme-code-foreground, var(--jp-content-font-color1, black)));\n",
       "  --sklearn-color-icon: #696969;\n",
       "\n",
       "  @media (prefers-color-scheme: dark) {\n",
       "    /* Redefinition of color scheme for dark theme */\n",
       "    --sklearn-color-text-on-default-background: var(--sg-text-color, var(--theme-code-foreground, var(--jp-content-font-color1, white)));\n",
       "    --sklearn-color-background: var(--sg-background-color, var(--theme-background, var(--jp-layout-color0, #111)));\n",
       "    --sklearn-color-border-box: var(--sg-text-color, var(--theme-code-foreground, var(--jp-content-font-color1, white)));\n",
       "    --sklearn-color-icon: #878787;\n",
       "  }\n",
       "}\n",
       "\n",
       "#sk-container-id-1 {\n",
       "  color: var(--sklearn-color-text);\n",
       "}\n",
       "\n",
       "#sk-container-id-1 pre {\n",
       "  padding: 0;\n",
       "}\n",
       "\n",
       "#sk-container-id-1 input.sk-hidden--visually {\n",
       "  border: 0;\n",
       "  clip: rect(1px 1px 1px 1px);\n",
       "  clip: rect(1px, 1px, 1px, 1px);\n",
       "  height: 1px;\n",
       "  margin: -1px;\n",
       "  overflow: hidden;\n",
       "  padding: 0;\n",
       "  position: absolute;\n",
       "  width: 1px;\n",
       "}\n",
       "\n",
       "#sk-container-id-1 div.sk-dashed-wrapped {\n",
       "  border: 1px dashed var(--sklearn-color-line);\n",
       "  margin: 0 0.4em 0.5em 0.4em;\n",
       "  box-sizing: border-box;\n",
       "  padding-bottom: 0.4em;\n",
       "  background-color: var(--sklearn-color-background);\n",
       "}\n",
       "\n",
       "#sk-container-id-1 div.sk-container {\n",
       "  /* jupyter's `normalize.less` sets `[hidden] { display: none; }`\n",
       "     but bootstrap.min.css set `[hidden] { display: none !important; }`\n",
       "     so we also need the `!important` here to be able to override the\n",
       "     default hidden behavior on the sphinx rendered scikit-learn.org.\n",
       "     See: https://github.com/scikit-learn/scikit-learn/issues/21755 */\n",
       "  display: inline-block !important;\n",
       "  position: relative;\n",
       "}\n",
       "\n",
       "#sk-container-id-1 div.sk-text-repr-fallback {\n",
       "  display: none;\n",
       "}\n",
       "\n",
       "div.sk-parallel-item,\n",
       "div.sk-serial,\n",
       "div.sk-item {\n",
       "  /* draw centered vertical line to link estimators */\n",
       "  background-image: linear-gradient(var(--sklearn-color-text-on-default-background), var(--sklearn-color-text-on-default-background));\n",
       "  background-size: 2px 100%;\n",
       "  background-repeat: no-repeat;\n",
       "  background-position: center center;\n",
       "}\n",
       "\n",
       "/* Parallel-specific style estimator block */\n",
       "\n",
       "#sk-container-id-1 div.sk-parallel-item::after {\n",
       "  content: \"\";\n",
       "  width: 100%;\n",
       "  border-bottom: 2px solid var(--sklearn-color-text-on-default-background);\n",
       "  flex-grow: 1;\n",
       "}\n",
       "\n",
       "#sk-container-id-1 div.sk-parallel {\n",
       "  display: flex;\n",
       "  align-items: stretch;\n",
       "  justify-content: center;\n",
       "  background-color: var(--sklearn-color-background);\n",
       "  position: relative;\n",
       "}\n",
       "\n",
       "#sk-container-id-1 div.sk-parallel-item {\n",
       "  display: flex;\n",
       "  flex-direction: column;\n",
       "}\n",
       "\n",
       "#sk-container-id-1 div.sk-parallel-item:first-child::after {\n",
       "  align-self: flex-end;\n",
       "  width: 50%;\n",
       "}\n",
       "\n",
       "#sk-container-id-1 div.sk-parallel-item:last-child::after {\n",
       "  align-self: flex-start;\n",
       "  width: 50%;\n",
       "}\n",
       "\n",
       "#sk-container-id-1 div.sk-parallel-item:only-child::after {\n",
       "  width: 0;\n",
       "}\n",
       "\n",
       "/* Serial-specific style estimator block */\n",
       "\n",
       "#sk-container-id-1 div.sk-serial {\n",
       "  display: flex;\n",
       "  flex-direction: column;\n",
       "  align-items: center;\n",
       "  background-color: var(--sklearn-color-background);\n",
       "  padding-right: 1em;\n",
       "  padding-left: 1em;\n",
       "}\n",
       "\n",
       "\n",
       "/* Toggleable style: style used for estimator/Pipeline/ColumnTransformer box that is\n",
       "clickable and can be expanded/collapsed.\n",
       "- Pipeline and ColumnTransformer use this feature and define the default style\n",
       "- Estimators will overwrite some part of the style using the `sk-estimator` class\n",
       "*/\n",
       "\n",
       "/* Pipeline and ColumnTransformer style (default) */\n",
       "\n",
       "#sk-container-id-1 div.sk-toggleable {\n",
       "  /* Default theme specific background. It is overwritten whether we have a\n",
       "  specific estimator or a Pipeline/ColumnTransformer */\n",
       "  background-color: var(--sklearn-color-background);\n",
       "}\n",
       "\n",
       "/* Toggleable label */\n",
       "#sk-container-id-1 label.sk-toggleable__label {\n",
       "  cursor: pointer;\n",
       "  display: block;\n",
       "  width: 100%;\n",
       "  margin-bottom: 0;\n",
       "  padding: 0.5em;\n",
       "  box-sizing: border-box;\n",
       "  text-align: center;\n",
       "}\n",
       "\n",
       "#sk-container-id-1 label.sk-toggleable__label-arrow:before {\n",
       "  /* Arrow on the left of the label */\n",
       "  content: \"▸\";\n",
       "  float: left;\n",
       "  margin-right: 0.25em;\n",
       "  color: var(--sklearn-color-icon);\n",
       "}\n",
       "\n",
       "#sk-container-id-1 label.sk-toggleable__label-arrow:hover:before {\n",
       "  color: var(--sklearn-color-text);\n",
       "}\n",
       "\n",
       "/* Toggleable content - dropdown */\n",
       "\n",
       "#sk-container-id-1 div.sk-toggleable__content {\n",
       "  max-height: 0;\n",
       "  max-width: 0;\n",
       "  overflow: hidden;\n",
       "  text-align: left;\n",
       "  /* unfitted */\n",
       "  background-color: var(--sklearn-color-unfitted-level-0);\n",
       "}\n",
       "\n",
       "#sk-container-id-1 div.sk-toggleable__content.fitted {\n",
       "  /* fitted */\n",
       "  background-color: var(--sklearn-color-fitted-level-0);\n",
       "}\n",
       "\n",
       "#sk-container-id-1 div.sk-toggleable__content pre {\n",
       "  margin: 0.2em;\n",
       "  border-radius: 0.25em;\n",
       "  color: var(--sklearn-color-text);\n",
       "  /* unfitted */\n",
       "  background-color: var(--sklearn-color-unfitted-level-0);\n",
       "}\n",
       "\n",
       "#sk-container-id-1 div.sk-toggleable__content.fitted pre {\n",
       "  /* unfitted */\n",
       "  background-color: var(--sklearn-color-fitted-level-0);\n",
       "}\n",
       "\n",
       "#sk-container-id-1 input.sk-toggleable__control:checked~div.sk-toggleable__content {\n",
       "  /* Expand drop-down */\n",
       "  max-height: 200px;\n",
       "  max-width: 100%;\n",
       "  overflow: auto;\n",
       "}\n",
       "\n",
       "#sk-container-id-1 input.sk-toggleable__control:checked~label.sk-toggleable__label-arrow:before {\n",
       "  content: \"▾\";\n",
       "}\n",
       "\n",
       "/* Pipeline/ColumnTransformer-specific style */\n",
       "\n",
       "#sk-container-id-1 div.sk-label input.sk-toggleable__control:checked~label.sk-toggleable__label {\n",
       "  color: var(--sklearn-color-text);\n",
       "  background-color: var(--sklearn-color-unfitted-level-2);\n",
       "}\n",
       "\n",
       "#sk-container-id-1 div.sk-label.fitted input.sk-toggleable__control:checked~label.sk-toggleable__label {\n",
       "  background-color: var(--sklearn-color-fitted-level-2);\n",
       "}\n",
       "\n",
       "/* Estimator-specific style */\n",
       "\n",
       "/* Colorize estimator box */\n",
       "#sk-container-id-1 div.sk-estimator input.sk-toggleable__control:checked~label.sk-toggleable__label {\n",
       "  /* unfitted */\n",
       "  background-color: var(--sklearn-color-unfitted-level-2);\n",
       "}\n",
       "\n",
       "#sk-container-id-1 div.sk-estimator.fitted input.sk-toggleable__control:checked~label.sk-toggleable__label {\n",
       "  /* fitted */\n",
       "  background-color: var(--sklearn-color-fitted-level-2);\n",
       "}\n",
       "\n",
       "#sk-container-id-1 div.sk-label label.sk-toggleable__label,\n",
       "#sk-container-id-1 div.sk-label label {\n",
       "  /* The background is the default theme color */\n",
       "  color: var(--sklearn-color-text-on-default-background);\n",
       "}\n",
       "\n",
       "/* On hover, darken the color of the background */\n",
       "#sk-container-id-1 div.sk-label:hover label.sk-toggleable__label {\n",
       "  color: var(--sklearn-color-text);\n",
       "  background-color: var(--sklearn-color-unfitted-level-2);\n",
       "}\n",
       "\n",
       "/* Label box, darken color on hover, fitted */\n",
       "#sk-container-id-1 div.sk-label.fitted:hover label.sk-toggleable__label.fitted {\n",
       "  color: var(--sklearn-color-text);\n",
       "  background-color: var(--sklearn-color-fitted-level-2);\n",
       "}\n",
       "\n",
       "/* Estimator label */\n",
       "\n",
       "#sk-container-id-1 div.sk-label label {\n",
       "  font-family: monospace;\n",
       "  font-weight: bold;\n",
       "  display: inline-block;\n",
       "  line-height: 1.2em;\n",
       "}\n",
       "\n",
       "#sk-container-id-1 div.sk-label-container {\n",
       "  text-align: center;\n",
       "}\n",
       "\n",
       "/* Estimator-specific */\n",
       "#sk-container-id-1 div.sk-estimator {\n",
       "  font-family: monospace;\n",
       "  border: 1px dotted var(--sklearn-color-border-box);\n",
       "  border-radius: 0.25em;\n",
       "  box-sizing: border-box;\n",
       "  margin-bottom: 0.5em;\n",
       "  /* unfitted */\n",
       "  background-color: var(--sklearn-color-unfitted-level-0);\n",
       "}\n",
       "\n",
       "#sk-container-id-1 div.sk-estimator.fitted {\n",
       "  /* fitted */\n",
       "  background-color: var(--sklearn-color-fitted-level-0);\n",
       "}\n",
       "\n",
       "/* on hover */\n",
       "#sk-container-id-1 div.sk-estimator:hover {\n",
       "  /* unfitted */\n",
       "  background-color: var(--sklearn-color-unfitted-level-2);\n",
       "}\n",
       "\n",
       "#sk-container-id-1 div.sk-estimator.fitted:hover {\n",
       "  /* fitted */\n",
       "  background-color: var(--sklearn-color-fitted-level-2);\n",
       "}\n",
       "\n",
       "/* Specification for estimator info (e.g. \"i\" and \"?\") */\n",
       "\n",
       "/* Common style for \"i\" and \"?\" */\n",
       "\n",
       ".sk-estimator-doc-link,\n",
       "a:link.sk-estimator-doc-link,\n",
       "a:visited.sk-estimator-doc-link {\n",
       "  float: right;\n",
       "  font-size: smaller;\n",
       "  line-height: 1em;\n",
       "  font-family: monospace;\n",
       "  background-color: var(--sklearn-color-background);\n",
       "  border-radius: 1em;\n",
       "  height: 1em;\n",
       "  width: 1em;\n",
       "  text-decoration: none !important;\n",
       "  margin-left: 1ex;\n",
       "  /* unfitted */\n",
       "  border: var(--sklearn-color-unfitted-level-1) 1pt solid;\n",
       "  color: var(--sklearn-color-unfitted-level-1);\n",
       "}\n",
       "\n",
       ".sk-estimator-doc-link.fitted,\n",
       "a:link.sk-estimator-doc-link.fitted,\n",
       "a:visited.sk-estimator-doc-link.fitted {\n",
       "  /* fitted */\n",
       "  border: var(--sklearn-color-fitted-level-1) 1pt solid;\n",
       "  color: var(--sklearn-color-fitted-level-1);\n",
       "}\n",
       "\n",
       "/* On hover */\n",
       "div.sk-estimator:hover .sk-estimator-doc-link:hover,\n",
       ".sk-estimator-doc-link:hover,\n",
       "div.sk-label-container:hover .sk-estimator-doc-link:hover,\n",
       ".sk-estimator-doc-link:hover {\n",
       "  /* unfitted */\n",
       "  background-color: var(--sklearn-color-unfitted-level-3);\n",
       "  color: var(--sklearn-color-background);\n",
       "  text-decoration: none;\n",
       "}\n",
       "\n",
       "div.sk-estimator.fitted:hover .sk-estimator-doc-link.fitted:hover,\n",
       ".sk-estimator-doc-link.fitted:hover,\n",
       "div.sk-label-container:hover .sk-estimator-doc-link.fitted:hover,\n",
       ".sk-estimator-doc-link.fitted:hover {\n",
       "  /* fitted */\n",
       "  background-color: var(--sklearn-color-fitted-level-3);\n",
       "  color: var(--sklearn-color-background);\n",
       "  text-decoration: none;\n",
       "}\n",
       "\n",
       "/* Span, style for the box shown on hovering the info icon */\n",
       ".sk-estimator-doc-link span {\n",
       "  display: none;\n",
       "  z-index: 9999;\n",
       "  position: relative;\n",
       "  font-weight: normal;\n",
       "  right: .2ex;\n",
       "  padding: .5ex;\n",
       "  margin: .5ex;\n",
       "  width: min-content;\n",
       "  min-width: 20ex;\n",
       "  max-width: 50ex;\n",
       "  color: var(--sklearn-color-text);\n",
       "  box-shadow: 2pt 2pt 4pt #999;\n",
       "  /* unfitted */\n",
       "  background: var(--sklearn-color-unfitted-level-0);\n",
       "  border: .5pt solid var(--sklearn-color-unfitted-level-3);\n",
       "}\n",
       "\n",
       ".sk-estimator-doc-link.fitted span {\n",
       "  /* fitted */\n",
       "  background: var(--sklearn-color-fitted-level-0);\n",
       "  border: var(--sklearn-color-fitted-level-3);\n",
       "}\n",
       "\n",
       ".sk-estimator-doc-link:hover span {\n",
       "  display: block;\n",
       "}\n",
       "\n",
       "/* \"?\"-specific style due to the `<a>` HTML tag */\n",
       "\n",
       "#sk-container-id-1 a.estimator_doc_link {\n",
       "  float: right;\n",
       "  font-size: 1rem;\n",
       "  line-height: 1em;\n",
       "  font-family: monospace;\n",
       "  background-color: var(--sklearn-color-background);\n",
       "  border-radius: 1rem;\n",
       "  height: 1rem;\n",
       "  width: 1rem;\n",
       "  text-decoration: none;\n",
       "  /* unfitted */\n",
       "  color: var(--sklearn-color-unfitted-level-1);\n",
       "  border: var(--sklearn-color-unfitted-level-1) 1pt solid;\n",
       "}\n",
       "\n",
       "#sk-container-id-1 a.estimator_doc_link.fitted {\n",
       "  /* fitted */\n",
       "  border: var(--sklearn-color-fitted-level-1) 1pt solid;\n",
       "  color: var(--sklearn-color-fitted-level-1);\n",
       "}\n",
       "\n",
       "/* On hover */\n",
       "#sk-container-id-1 a.estimator_doc_link:hover {\n",
       "  /* unfitted */\n",
       "  background-color: var(--sklearn-color-unfitted-level-3);\n",
       "  color: var(--sklearn-color-background);\n",
       "  text-decoration: none;\n",
       "}\n",
       "\n",
       "#sk-container-id-1 a.estimator_doc_link.fitted:hover {\n",
       "  /* fitted */\n",
       "  background-color: var(--sklearn-color-fitted-level-3);\n",
       "}\n",
       "</style><div id=\"sk-container-id-1\" class=\"sk-top-container\"><div class=\"sk-text-repr-fallback\"><pre>LinearRegression()</pre><b>In a Jupyter environment, please rerun this cell to show the HTML representation or trust the notebook. <br />On GitHub, the HTML representation is unable to render, please try loading this page with nbviewer.org.</b></div><div class=\"sk-container\" hidden><div class=\"sk-item\"><div class=\"sk-estimator fitted sk-toggleable\"><input class=\"sk-toggleable__control sk-hidden--visually\" id=\"sk-estimator-id-1\" type=\"checkbox\" checked><label for=\"sk-estimator-id-1\" class=\"sk-toggleable__label fitted sk-toggleable__label-arrow fitted\">&nbsp;&nbsp;LinearRegression<a class=\"sk-estimator-doc-link fitted\" rel=\"noreferrer\" target=\"_blank\" href=\"https://scikit-learn.org/1.4/modules/generated/sklearn.linear_model.LinearRegression.html\">?<span>Documentation for LinearRegression</span></a><span class=\"sk-estimator-doc-link fitted\">i<span>Fitted</span></span></label><div class=\"sk-toggleable__content fitted\"><pre>LinearRegression()</pre></div> </div></div></div></div>"
      ],
      "text/plain": [
       "LinearRegression()"
      ]
     },
     "execution_count": 37,
     "metadata": {},
     "output_type": "execute_result"
    }
   ],
   "source": [
    "from sklearn.linear_model import LinearRegression\n",
    "model_lr13=LinearRegression()\n",
    "model_lr13.fit(x_train,y_train)"
   ]
  },
  {
   "cell_type": "code",
   "execution_count": 38,
   "metadata": {},
   "outputs": [],
   "source": [
    "y_pred_lr13=model_lr13.predict(x_test)\n"
   ]
  },
  {
   "cell_type": "code",
   "execution_count": 39,
   "metadata": {},
   "outputs": [],
   "source": [
    "y_test=y_test[-len(x_test):]"
   ]
  },
  {
   "cell_type": "code",
   "execution_count": 40,
   "metadata": {},
   "outputs": [
    {
     "data": {
      "text/plain": [
       "(50, 1)"
      ]
     },
     "execution_count": 40,
     "metadata": {},
     "output_type": "execute_result"
    }
   ],
   "source": [
    "y_test.shape"
   ]
  },
  {
   "cell_type": "code",
   "execution_count": 41,
   "metadata": {},
   "outputs": [
    {
     "data": {
      "text/plain": [
       "(50, 1)"
      ]
     },
     "execution_count": 41,
     "metadata": {},
     "output_type": "execute_result"
    }
   ],
   "source": [
    "y_pred_lr13.shape"
   ]
  },
  {
   "cell_type": "code",
   "execution_count": 42,
   "metadata": {},
   "outputs": [],
   "source": [
    "mae_lr13=mean_absolute_error(y_test,y_pred_lr13)\n",
    "rmse_lr13=root_mean_squared_error(y_test,y_pred_lr13)\n",
    "r2_lr13=r2_score(y_test,y_pred_lr13)"
   ]
  },
  {
   "cell_type": "code",
   "execution_count": 43,
   "metadata": {},
   "outputs": [
    {
     "name": "stdout",
     "output_type": "stream",
     "text": [
      "RMSE_LR13:0.06631425026466722\n",
      "MAE_LR13:0.050895335331548865\n",
      "R2_LR13:-0.003622842156924655\n"
     ]
    }
   ],
   "source": [
    "print(f'RMSE_LR13:{rmse_lr13}\\nMAE_LR13:{mae_lr13}\\nR2_LR13:{r2_lr13}')"
   ]
  },
  {
   "cell_type": "markdown",
   "metadata": {},
   "source": [
    "**LSTM**"
   ]
  },
  {
   "cell_type": "code",
   "execution_count": 44,
   "metadata": {},
   "outputs": [],
   "source": [
    "#Now prepare the data for LSTM by creating sequences of a defined length (e.g., 60 days) to predict the next day’s price:\n",
    "def create_sequences(df, seq_length=60):\n",
    "    X, y=[], []\n",
    "    for i in range(len(df) - seq_length):\n",
    "        X.append(df[i:i+seq_length])\n",
    "        y.append(df[i+seq_length])\n",
    "    return np.array(X), np.array(y)\n",
    "\n",
    "seq_length=60\n",
    "X,y=create_sequences(df['Close'].values,seq_length)"
   ]
  },
  {
   "cell_type": "code",
   "execution_count": 45,
   "metadata": {},
   "outputs": [
    {
     "data": {
      "text/plain": [
       "(192, 60)"
      ]
     },
     "execution_count": 45,
     "metadata": {},
     "output_type": "execute_result"
    }
   ],
   "source": [
    "X.shape"
   ]
  },
  {
   "cell_type": "code",
   "execution_count": 46,
   "metadata": {},
   "outputs": [],
   "source": [
    "# split the sequences into training and test sets (eg, 80% training, 20% testing)\n",
    "train_size=int(len(X)*0.8)\n",
    "X_train,X_test=X[:train_size],X[train_size:]\n",
    "y_train,y_test=y[:train_size],y[train_size:]"
   ]
  },
  {
   "cell_type": "code",
   "execution_count": 47,
   "metadata": {},
   "outputs": [],
   "source": [
    "from tensorflow.keras.models import Sequential\n",
    "from tensorflow.keras.layers import LSTM,Dense\n",
    "\n",
    "model_lstm13=Sequential()\n",
    "model_lstm13.add(LSTM(units=50,return_sequences=True,input_shape=(X_train.shape[1],1)))\n",
    "model_lstm13.add(LSTM(units=50))\n",
    "model_lstm13.add(Dense(1))"
   ]
  },
  {
   "cell_type": "code",
   "execution_count": 48,
   "metadata": {},
   "outputs": [
    {
     "name": "stdout",
     "output_type": "stream",
     "text": [
      "Epoch 1/20\n",
      "\u001b[1m5/5\u001b[0m \u001b[32m━━━━━━━━━━━━━━━━━━━━\u001b[0m\u001b[37m\u001b[0m \u001b[1m3s\u001b[0m 19ms/step - loss: 0.2400\n",
      "Epoch 2/20\n",
      "\u001b[1m5/5\u001b[0m \u001b[32m━━━━━━━━━━━━━━━━━━━━\u001b[0m\u001b[37m\u001b[0m \u001b[1m0s\u001b[0m 19ms/step - loss: 0.0489\n",
      "Epoch 3/20\n",
      "\u001b[1m5/5\u001b[0m \u001b[32m━━━━━━━━━━━━━━━━━━━━\u001b[0m\u001b[37m\u001b[0m \u001b[1m0s\u001b[0m 19ms/step - loss: 0.0413\n",
      "Epoch 4/20\n",
      "\u001b[1m5/5\u001b[0m \u001b[32m━━━━━━━━━━━━━━━━━━━━\u001b[0m\u001b[37m\u001b[0m \u001b[1m0s\u001b[0m 20ms/step - loss: 0.0166\n",
      "Epoch 5/20\n",
      "\u001b[1m5/5\u001b[0m \u001b[32m━━━━━━━━━━━━━━━━━━━━\u001b[0m\u001b[37m\u001b[0m \u001b[1m0s\u001b[0m 19ms/step - loss: 0.0195\n",
      "Epoch 6/20\n",
      "\u001b[1m5/5\u001b[0m \u001b[32m━━━━━━━━━━━━━━━━━━━━\u001b[0m\u001b[37m\u001b[0m \u001b[1m0s\u001b[0m 19ms/step - loss: 0.0125\n",
      "Epoch 7/20\n",
      "\u001b[1m5/5\u001b[0m \u001b[32m━━━━━━━━━━━━━━━━━━━━\u001b[0m\u001b[37m\u001b[0m \u001b[1m0s\u001b[0m 17ms/step - loss: 0.0117\n",
      "Epoch 8/20\n",
      "\u001b[1m5/5\u001b[0m \u001b[32m━━━━━━━━━━━━━━━━━━━━\u001b[0m\u001b[37m\u001b[0m \u001b[1m0s\u001b[0m 19ms/step - loss: 0.0104\n",
      "Epoch 9/20\n",
      "\u001b[1m5/5\u001b[0m \u001b[32m━━━━━━━━━━━━━━━━━━━━\u001b[0m\u001b[37m\u001b[0m \u001b[1m0s\u001b[0m 18ms/step - loss: 0.0094\n",
      "Epoch 10/20\n",
      "\u001b[1m5/5\u001b[0m \u001b[32m━━━━━━━━━━━━━━━━━━━━\u001b[0m\u001b[37m\u001b[0m \u001b[1m0s\u001b[0m 20ms/step - loss: 0.0088\n",
      "Epoch 11/20\n",
      "\u001b[1m5/5\u001b[0m \u001b[32m━━━━━━━━━━━━━━━━━━━━\u001b[0m\u001b[37m\u001b[0m \u001b[1m0s\u001b[0m 20ms/step - loss: 0.0086\n",
      "Epoch 12/20\n",
      "\u001b[1m5/5\u001b[0m \u001b[32m━━━━━━━━━━━━━━━━━━━━\u001b[0m\u001b[37m\u001b[0m \u001b[1m0s\u001b[0m 21ms/step - loss: 0.0084\n",
      "Epoch 13/20\n",
      "\u001b[1m5/5\u001b[0m \u001b[32m━━━━━━━━━━━━━━━━━━━━\u001b[0m\u001b[37m\u001b[0m \u001b[1m0s\u001b[0m 17ms/step - loss: 0.0081\n",
      "Epoch 14/20\n",
      "\u001b[1m5/5\u001b[0m \u001b[32m━━━━━━━━━━━━━━━━━━━━\u001b[0m\u001b[37m\u001b[0m \u001b[1m0s\u001b[0m 20ms/step - loss: 0.0078\n",
      "Epoch 15/20\n",
      "\u001b[1m5/5\u001b[0m \u001b[32m━━━━━━━━━━━━━━━━━━━━\u001b[0m\u001b[37m\u001b[0m \u001b[1m0s\u001b[0m 20ms/step - loss: 0.0076\n",
      "Epoch 16/20\n",
      "\u001b[1m5/5\u001b[0m \u001b[32m━━━━━━━━━━━━━━━━━━━━\u001b[0m\u001b[37m\u001b[0m \u001b[1m0s\u001b[0m 24ms/step - loss: 0.0074\n",
      "Epoch 17/20\n",
      "\u001b[1m5/5\u001b[0m \u001b[32m━━━━━━━━━━━━━━━━━━━━\u001b[0m\u001b[37m\u001b[0m \u001b[1m0s\u001b[0m 20ms/step - loss: 0.0071\n",
      "Epoch 18/20\n",
      "\u001b[1m5/5\u001b[0m \u001b[32m━━━━━━━━━━━━━━━━━━━━\u001b[0m\u001b[37m\u001b[0m \u001b[1m0s\u001b[0m 19ms/step - loss: 0.0070\n",
      "Epoch 19/20\n",
      "\u001b[1m5/5\u001b[0m \u001b[32m━━━━━━━━━━━━━━━━━━━━\u001b[0m\u001b[37m\u001b[0m \u001b[1m0s\u001b[0m 20ms/step - loss: 0.0068\n",
      "Epoch 20/20\n",
      "\u001b[1m5/5\u001b[0m \u001b[32m━━━━━━━━━━━━━━━━━━━━\u001b[0m\u001b[37m\u001b[0m \u001b[1m0s\u001b[0m 18ms/step - loss: 0.0067\n"
     ]
    },
    {
     "data": {
      "text/plain": [
       "<keras.src.callbacks.history.History at 0x271c39c6a80>"
      ]
     },
     "execution_count": 48,
     "metadata": {},
     "output_type": "execute_result"
    }
   ],
   "source": [
    "#compile the model using an appropriate optimizer and loss function\n",
    "model_lstm13.compile(optimizer='adam', loss='mean_squared_error')\n",
    "model_lstm13.fit(X_train,y_train,epochs=20,batch_size=32)"
   ]
  },
  {
   "cell_type": "code",
   "execution_count": 49,
   "metadata": {},
   "outputs": [
    {
     "name": "stdout",
     "output_type": "stream",
     "text": [
      "WARNING:tensorflow:5 out of the last 5 calls to <function TensorFlowTrainer.make_predict_function.<locals>.one_step_on_data_distributed at 0x00000271C3AA4E00> triggered tf.function retracing. Tracing is expensive and the excessive number of tracings could be due to (1) creating @tf.function repeatedly in a loop, (2) passing tensors with different shapes, (3) passing Python objects instead of tensors. For (1), please define your @tf.function outside of the loop. For (2), @tf.function has reduce_retracing=True option that can avoid unnecessary retracing. For (3), please refer to https://www.tensorflow.org/guide/function#controlling_retracing and https://www.tensorflow.org/api_docs/python/tf/function for  more details.\n",
      "\u001b[1m1/2\u001b[0m \u001b[32m━━━━━━━━━━\u001b[0m\u001b[37m━━━━━━━━━━\u001b[0m \u001b[1m0s\u001b[0m 256ms/stepWARNING:tensorflow:6 out of the last 6 calls to <function TensorFlowTrainer.make_predict_function.<locals>.one_step_on_data_distributed at 0x00000271C3AA4E00> triggered tf.function retracing. Tracing is expensive and the excessive number of tracings could be due to (1) creating @tf.function repeatedly in a loop, (2) passing tensors with different shapes, (3) passing Python objects instead of tensors. For (1), please define your @tf.function outside of the loop. For (2), @tf.function has reduce_retracing=True option that can avoid unnecessary retracing. For (3), please refer to https://www.tensorflow.org/guide/function#controlling_retracing and https://www.tensorflow.org/api_docs/python/tf/function for  more details.\n",
      "\u001b[1m2/2\u001b[0m \u001b[32m━━━━━━━━━━━━━━━━━━━━\u001b[0m\u001b[37m\u001b[0m \u001b[1m1s\u001b[0m 255ms/step\n"
     ]
    }
   ],
   "source": [
    "y_pred_lstm13=model_lstm13.predict(X_test)"
   ]
  },
  {
   "cell_type": "code",
   "execution_count": 50,
   "metadata": {},
   "outputs": [
    {
     "name": "stdout",
     "output_type": "stream",
     "text": [
      "(153, 60)\n",
      "(153,)\n",
      "(39, 60)\n",
      "(39, 1)\n",
      "(39,)\n"
     ]
    }
   ],
   "source": [
    "print(X_train.shape)\n",
    "print(y_train.shape)\n",
    "print(X_test.shape)\n",
    "print(y_pred_lstm13.shape)\n",
    "print(y_test.shape)"
   ]
  },
  {
   "cell_type": "code",
   "execution_count": 51,
   "metadata": {},
   "outputs": [],
   "source": [
    "rmse_lstm13=root_mean_squared_error(y_test,y_pred_lstm13)\n",
    "mae_lstm13=mean_absolute_error(y_test,y_pred_lstm13)\n",
    "r2_lstm13=r2_score(y_test,y_pred_lstm13)"
   ]
  },
  {
   "cell_type": "code",
   "execution_count": 52,
   "metadata": {},
   "outputs": [
    {
     "name": "stdout",
     "output_type": "stream",
     "text": [
      "MSE_LSTM13:0.0642038528849443\n",
      "MAE_LSTM13:0.05295707181894437\n",
      "R2_LSTM13:0.12033481610571573\n"
     ]
    }
   ],
   "source": [
    "print(f'MSE_LSTM13:{rmse_lstm13}\\nMAE_LSTM13:{mae_lstm13}\\nR2_LSTM13:{r2_lstm13}')"
   ]
  },
  {
   "cell_type": "markdown",
   "metadata": {},
   "source": [
    "**HYBRID**"
   ]
  },
  {
   "cell_type": "code",
   "execution_count": 53,
   "metadata": {},
   "outputs": [
    {
     "name": "stdout",
     "output_type": "stream",
     "text": [
      "RMSE_H13:0.06420384643376018\n",
      "MAE_H13:0.05295706570564747\n",
      "R2_H13:0.12033499288270155\n"
     ]
    }
   ],
   "source": [
    "y_pred_lr13=y_pred_lstm13[-len(y_pred_lstm13):]\n",
    "alpha=0.6\n",
    "hybrid13=alpha*y_pred_lstm13+(1-alpha)*y_pred_lr13\n",
    "\n",
    "rmse_h13=root_mean_squared_error(y_test,hybrid13)\n",
    "mae_h13=mean_absolute_error(y_test,hybrid13)\n",
    "r2_h13=r2_score(y_test,hybrid13)\n",
    "\n",
    "print(f'RMSE_H13:{rmse_h13}\\nMAE_H13:{mae_h13}\\nR2_H13:{r2_h13}')"
   ]
  },
  {
   "cell_type": "markdown",
   "metadata": {},
   "source": [
    "### **HYBRID2(LSTM+LR+SVR+RF)**"
   ]
  },
  {
   "cell_type": "markdown",
   "metadata": {},
   "source": [
    "### APPROACH1"
   ]
  },
  {
   "cell_type": "markdown",
   "metadata": {},
   "source": []
  },
  {
   "cell_type": "code",
   "execution_count": 54,
   "metadata": {},
   "outputs": [
    {
     "name": "stdout",
     "output_type": "stream",
     "text": [
      "RMSE: 0.002739926804601375\n",
      " MAE: 0.002459694742372806 \n",
      " R2: 0.9999039580218739\n"
     ]
    }
   ],
   "source": [
    "#Linear regression\n",
    "#import required libraries\n",
    "from sklearn.linear_model import LinearRegression\n",
    "from sklearn.model_selection import train_test_split\n",
    "from sklearn.metrics import mean_squared_error,mean_absolute_error,r2_score\n",
    "\n",
    "#define dependent and independent features\n",
    "x=df.drop(columns='Close')\n",
    "y=df[['Close']]\n",
    "\n",
    "x_train,x_test,y_train,y_test=train_test_split(x,y,train_size=0.8,random_state=42)\n",
    "\n",
    "model_lr21=LinearRegression()\n",
    "model_lr21.fit(x_train,y_train)\n",
    "y_pred_lr21=model_lr21.predict(x_test)\n",
    "\n",
    "#evaluation metrics for linear regression model with all features as predictors\n",
    "rmse_lr21=root_mean_squared_error(y_test,y_pred_lr21)\n",
    "mae_lr21=mean_absolute_error(y_test,y_pred_lr21)\n",
    "r2_lr21=r2_score(y_test,y_pred_lr21)\n",
    "print(f'RMSE: {rmse_lr21}\\n MAE: {mae_lr21} \\n R2: {r2_lr21}')"
   ]
  },
  {
   "cell_type": "code",
   "execution_count": 55,
   "metadata": {},
   "outputs": [
    {
     "name": "stdout",
     "output_type": "stream",
     "text": [
      "Epoch 1/20\n",
      "\u001b[1m5/5\u001b[0m \u001b[32m━━━━━━━━━━━━━━━━━━━━\u001b[0m\u001b[37m\u001b[0m \u001b[1m5s\u001b[0m 156ms/step - loss: 0.2571 - val_loss: 0.0350\n",
      "Epoch 2/20\n",
      "\u001b[1m5/5\u001b[0m \u001b[32m━━━━━━━━━━━━━━━━━━━━\u001b[0m\u001b[37m\u001b[0m \u001b[1m0s\u001b[0m 37ms/step - loss: 0.0468 - val_loss: 0.0129\n",
      "Epoch 3/20\n",
      "\u001b[1m5/5\u001b[0m \u001b[32m━━━━━━━━━━━━━━━━━━━━\u001b[0m\u001b[37m\u001b[0m \u001b[1m0s\u001b[0m 35ms/step - loss: 0.0247 - val_loss: 0.0807\n",
      "Epoch 4/20\n",
      "\u001b[1m5/5\u001b[0m \u001b[32m━━━━━━━━━━━━━━━━━━━━\u001b[0m\u001b[37m\u001b[0m \u001b[1m0s\u001b[0m 37ms/step - loss: 0.0263 - val_loss: 0.0041\n",
      "Epoch 5/20\n",
      "\u001b[1m5/5\u001b[0m \u001b[32m━━━━━━━━━━━━━━━━━━━━\u001b[0m\u001b[37m\u001b[0m \u001b[1m0s\u001b[0m 37ms/step - loss: 0.0181 - val_loss: 0.0076\n",
      "Epoch 6/20\n",
      "\u001b[1m5/5\u001b[0m \u001b[32m━━━━━━━━━━━━━━━━━━━━\u001b[0m\u001b[37m\u001b[0m \u001b[1m0s\u001b[0m 38ms/step - loss: 0.0166 - val_loss: 0.0155\n",
      "Epoch 7/20\n",
      "\u001b[1m5/5\u001b[0m \u001b[32m━━━━━━━━━━━━━━━━━━━━\u001b[0m\u001b[37m\u001b[0m \u001b[1m0s\u001b[0m 37ms/step - loss: 0.0146 - val_loss: 0.0066\n",
      "Epoch 8/20\n",
      "\u001b[1m5/5\u001b[0m \u001b[32m━━━━━━━━━━━━━━━━━━━━\u001b[0m\u001b[37m\u001b[0m \u001b[1m0s\u001b[0m 34ms/step - loss: 0.0115 - val_loss: 0.0085\n",
      "Epoch 9/20\n",
      "\u001b[1m5/5\u001b[0m \u001b[32m━━━━━━━━━━━━━━━━━━━━\u001b[0m\u001b[37m\u001b[0m \u001b[1m0s\u001b[0m 36ms/step - loss: 0.0129 - val_loss: 0.0042\n",
      "Epoch 10/20\n",
      "\u001b[1m5/5\u001b[0m \u001b[32m━━━━━━━━━━━━━━━━━━━━\u001b[0m\u001b[37m\u001b[0m \u001b[1m0s\u001b[0m 38ms/step - loss: 0.0117 - val_loss: 0.0052\n",
      "Epoch 11/20\n",
      "\u001b[1m5/5\u001b[0m \u001b[32m━━━━━━━━━━━━━━━━━━━━\u001b[0m\u001b[37m\u001b[0m \u001b[1m0s\u001b[0m 41ms/step - loss: 0.0107 - val_loss: 0.0047\n",
      "Epoch 12/20\n",
      "\u001b[1m5/5\u001b[0m \u001b[32m━━━━━━━━━━━━━━━━━━━━\u001b[0m\u001b[37m\u001b[0m \u001b[1m0s\u001b[0m 38ms/step - loss: 0.0101 - val_loss: 0.0042\n",
      "Epoch 13/20\n",
      "\u001b[1m5/5\u001b[0m \u001b[32m━━━━━━━━━━━━━━━━━━━━\u001b[0m\u001b[37m\u001b[0m \u001b[1m0s\u001b[0m 38ms/step - loss: 0.0101 - val_loss: 0.0050\n",
      "Epoch 14/20\n",
      "\u001b[1m5/5\u001b[0m \u001b[32m━━━━━━━━━━━━━━━━━━━━\u001b[0m\u001b[37m\u001b[0m \u001b[1m0s\u001b[0m 35ms/step - loss: 0.0095 - val_loss: 0.0043\n",
      "Epoch 15/20\n",
      "\u001b[1m5/5\u001b[0m \u001b[32m━━━━━━━━━━━━━━━━━━━━\u001b[0m\u001b[37m\u001b[0m \u001b[1m0s\u001b[0m 38ms/step - loss: 0.0093 - val_loss: 0.0048\n",
      "Epoch 16/20\n",
      "\u001b[1m5/5\u001b[0m \u001b[32m━━━━━━━━━━━━━━━━━━━━\u001b[0m\u001b[37m\u001b[0m \u001b[1m0s\u001b[0m 38ms/step - loss: 0.0087 - val_loss: 0.0044\n",
      "Epoch 17/20\n",
      "\u001b[1m5/5\u001b[0m \u001b[32m━━━━━━━━━━━━━━━━━━━━\u001b[0m\u001b[37m\u001b[0m \u001b[1m0s\u001b[0m 38ms/step - loss: 0.0084 - val_loss: 0.0058\n",
      "Epoch 18/20\n",
      "\u001b[1m5/5\u001b[0m \u001b[32m━━━━━━━━━━━━━━━━━━━━\u001b[0m\u001b[37m\u001b[0m \u001b[1m0s\u001b[0m 38ms/step - loss: 0.0080 - val_loss: 0.0040\n",
      "Epoch 19/20\n",
      "\u001b[1m5/5\u001b[0m \u001b[32m━━━━━━━━━━━━━━━━━━━━\u001b[0m\u001b[37m\u001b[0m \u001b[1m0s\u001b[0m 37ms/step - loss: 0.0083 - val_loss: 0.0054\n",
      "Epoch 20/20\n",
      "\u001b[1m5/5\u001b[0m \u001b[32m━━━━━━━━━━━━━━━━━━━━\u001b[0m\u001b[37m\u001b[0m \u001b[1m0s\u001b[0m 38ms/step - loss: 0.0072 - val_loss: 0.0044\n",
      "\u001b[1m2/2\u001b[0m \u001b[32m━━━━━━━━━━━━━━━━━━━━\u001b[0m\u001b[37m\u001b[0m \u001b[1m1s\u001b[0m 378ms/step\n",
      "\n",
      "\n",
      "\n",
      "MAE_LSTM21: 0.06\n",
      ", RMSE_LSTM21: 0.07\n",
      ", R2_LSTM21: 0.05\n"
     ]
    }
   ],
   "source": [
    "#LSTM\n",
    "import tensorflow as tf\n",
    "# tf.random.set_seed(42)\n",
    "x=df.drop(columns='Close')\n",
    "y=df[['Close']]\n",
    "def create_sequences(features, target, time_steps=60):\n",
    "    X, y = [], []\n",
    "    for i in range(len(features) - time_steps):\n",
    "        X.append(features[i:i+time_steps])\n",
    "        y.append(target[i+time_steps])  \n",
    "    return np.array(X), np.array(y)\n",
    "\n",
    "time_steps = 60  # Use past 60 days for prediction\n",
    "x_array=x.to_numpy()\n",
    "y_array=y.to_numpy()\n",
    "X, y = create_sequences(x_array,y_array, time_steps)\n",
    "\n",
    "# Split into training and testing sets\n",
    "X_train, X_test, y_train, y_test = train_test_split(X, y, test_size=0.2, shuffle=False)\n",
    "\n",
    "# Reshape for LSTM input\n",
    "X_train = X_train.reshape(X_train.shape[0], X_train.shape[1], X_train.shape[2])\n",
    "X_test = X_test.reshape(X_test.shape[0], X_test.shape[1], X_test.shape[2])\n",
    "\n",
    "\n",
    "\n",
    "from tensorflow.keras.models import Sequential\n",
    "from tensorflow.keras.layers import LSTM,Dense,Dropout\n",
    "model_lstm21 = Sequential([\n",
    "    LSTM(units=50, return_sequences=True, input_shape=(time_steps, X_train.shape[2])),\n",
    "    Dropout(0.2),\n",
    "    LSTM(units=50, return_sequences=True),\n",
    "   \n",
    "    LSTM(units=50),\n",
    "    Dense(units=30),\n",
    "    \n",
    "    Dense(units=1)  # Output layer (Predicting Close price)\n",
    "])\n",
    "\n",
    "model_lstm21.compile(optimizer='adam', loss='mean_squared_error')\n",
    "model_lstm21.fit(X_train,y_train,epochs=20,batch_size=32,validation_data=(X_test,y_test))\n",
    "y_pred_lstm21=model_lstm21.predict(X_test)\n",
    "\n",
    "\n",
    "from sklearn.metrics import mean_absolute_error, mean_squared_error,r2_score\n",
    "mae_lstm21 = mean_absolute_error(y_test, y_pred_lstm21)\n",
    "rmse_lstm21 = root_mean_squared_error(y_test, y_pred_lstm21)\n",
    "r2_lstm21=r2_score(y_test,y_pred_lstm21)\n",
    "print(f\"\\n\\n\\nMAE_LSTM21: {mae_lstm21:.2f}\\n, RMSE_LSTM21: {rmse_lstm21:.2f}\\n, R2_LSTM21: {r2_lstm21:.2f}\")\n"
   ]
  },
  {
   "cell_type": "code",
   "execution_count": 56,
   "metadata": {},
   "outputs": [
    {
     "name": "stdout",
     "output_type": "stream",
     "text": [
      "RMSE_SVR21:0.05254948092659324\n",
      "MAE_SVR21:0.04555405383007943\n",
      "R2_SVR21:0.9646719199907317\n"
     ]
    }
   ],
   "source": [
    "#SVR\n",
    "from sklearn.model_selection import train_test_split\n",
    "from sklearn.svm import SVR\n",
    "from sklearn.metrics import mean_squared_error,mean_absolute_error,r2_score\n",
    "x=df.drop(columns='Close')\n",
    "y=df[['Close']]\n",
    "\n",
    "x_train,x_test,y_train,y_test=train_test_split(x,y,train_size=0.8,random_state=42)\n",
    "\n",
    "\n",
    "model_svr21=SVR(kernel='rbf')\n",
    "model_svr21.fit(x_train,y_train)\n",
    "y_pred_svr21=model_svr21.predict(x_test)\n",
    "\n",
    "rmse_svr21=root_mean_squared_error(y_test,y_pred_svr21)\n",
    "mae_svr21=mean_absolute_error(y_test,y_pred_svr21)\n",
    "r2_svr21=r2_score(y_test,y_pred_svr21)\n",
    "print(f'RMSE_SVR21:{rmse_svr21}\\nMAE_SVR21:{mae_svr21}\\nR2_SVR21:{r2_svr21}')\n",
    "\n"
   ]
  },
  {
   "cell_type": "code",
   "execution_count": 57,
   "metadata": {},
   "outputs": [
    {
     "name": "stdout",
     "output_type": "stream",
     "text": [
      "RMSE_RF21:0.007181963012115744\n",
      "MAE_RF21:0.004780932027575636\n",
      "R2_RF21:0.9993401131066185\n"
     ]
    }
   ],
   "source": [
    "#random forest\n",
    "from sklearn.ensemble import RandomForestRegressor\n",
    "from sklearn.model_selection import train_test_split\n",
    "from sklearn.metrics import mean_squared_error,mean_absolute_error,r2_score\n",
    "x=df.drop(columns='Close')\n",
    "y=df[['Close']]\n",
    "\n",
    "x_train,x_test,y_train,y_test=train_test_split(x,y,train_size=0.8,random_state=42)\n",
    "model_rf21=RandomForestRegressor()\n",
    "model_rf21.fit(x_train,y_train)\n",
    "y_pred_rf21=model_rf21.predict(x_test)\n",
    "\n",
    "rmse_rf21=root_mean_squared_error(y_test,y_pred_rf21)\n",
    "mae_rf21=mean_absolute_error(y_test,y_pred_rf21)\n",
    "r2_rf21=r2_score(y_test,y_pred_rf21)\n",
    "print(f'RMSE_RF21:{rmse_rf21}\\nMAE_RF21:{mae_rf21}\\nR2_RF21:{r2_rf21}')"
   ]
  },
  {
   "cell_type": "code",
   "execution_count": 58,
   "metadata": {},
   "outputs": [
    {
     "name": "stdout",
     "output_type": "stream",
     "text": [
      "(39, 1)\n",
      "(39, 1)\n",
      "(39, 1)\n",
      "MAE_H21: 0.12\n",
      "RMSE_H21: 0.13\n",
      "R2_H21: 0.7544\n"
     ]
    }
   ],
   "source": [
    "#hybrid\n",
    "# Reshape Linear Regression predictions to match LSTM predictions\n",
    "y_pred_lr21 = y_pred_lr21[-len(y_pred_lstm21):]  # Ensure equal length\n",
    "y_pred_svr21=y_pred_svr21[-len(y_pred_lstm21):]\n",
    "y_pred_rf21=y_pred_rf21[-len(y_pred_lstm21):]\n",
    "y_test=y_test[-len(y_pred_lstm21):]\n",
    "\n",
    "# Convert to NumPy arrays\n",
    "y_pred_lr21 = np.array(y_pred_lr21).reshape(-1,1)\n",
    "y_pred_lstm21 = np.array(y_pred_lstm21).reshape(-1,1)\n",
    "y_pred_svr21=np.array(y_pred_svr21).reshape(-1,1)\n",
    "y_pred_rf21=np.array(y_pred_rf21).reshape(-1,1)\n",
    "print(y_pred_rf21.shape)\n",
    "print(y_pred_svr21.shape)\n",
    "print(y_test.shape)\n",
    "# Hybrid Prediction: Weighted Average of Linear Regression & LSTM\n",
    "alpha = 0.25  # Weight for LSTM (Adjustable)\n",
    "y_pred_h21 = 0.25 * y_pred_lstm21 + 0.25* y_pred_lr21+0.25*y_pred_svr21+0.25*y_pred_rf21\n",
    "\n",
    "mae_h21=mean_absolute_error(y_test,y_pred_h21)\n",
    "rmse_h21=root_mean_squared_error(y_test,y_pred_h21)\n",
    "r2_h21=r2_score(y_test,y_pred_h21)\n",
    "print(f\"MAE_H21: {mae_h21:.2f}\\nRMSE_H21: {rmse_h21:.2f}\\nR2_H21: {r2_h21:.4f}\")\n"
   ]
  },
  {
   "cell_type": "markdown",
   "metadata": {},
   "source": [
    "### APPROACH-2"
   ]
  },
  {
   "cell_type": "code",
   "execution_count": 59,
   "metadata": {},
   "outputs": [
    {
     "name": "stdout",
     "output_type": "stream",
     "text": [
      "RMSE_LR22:0.012423550636731801\n",
      "MAE_LR22:0.010099101693279254\n",
      "R2_LR22:0.9980254204122807\n"
     ]
    }
   ],
   "source": [
    "#linear regression\n",
    "x=df[['Open','High','Low']]\n",
    "y=df[['Close']]\n",
    "\n",
    "x_train,x_test,y_train,y_test=train_test_split(x,y,train_size=0.8,random_state=42)\n",
    "\n",
    "model_lr22=LinearRegression()\n",
    "model_lr22.fit(x_train,y_train)\n",
    "y_pred_lr22=model_lr22.predict(x_test)\n",
    "\n",
    "mae_lr22=mean_absolute_error(y_test,y_pred_lr22)\n",
    "rmse_lr22=root_mean_squared_error(y_test,y_pred_lr22)\n",
    "r2_lr22=r2_score(y_test,y_pred_lr22)\n",
    "print(f\"RMSE_LR22:{rmse_lr22}\\nMAE_LR22:{mae_lr22}\\nR2_LR22:{r2_lr22}\")"
   ]
  },
  {
   "cell_type": "code",
   "execution_count": 60,
   "metadata": {},
   "outputs": [
    {
     "name": "stdout",
     "output_type": "stream",
     "text": [
      "Epoch 1/20\n",
      "\u001b[1m6/6\u001b[0m \u001b[32m━━━━━━━━━━━━━━━━━━━━\u001b[0m\u001b[37m\u001b[0m \u001b[1m5s\u001b[0m 128ms/step - loss: 0.1696 - val_loss: 0.0620\n",
      "Epoch 2/20\n",
      "\u001b[1m6/6\u001b[0m \u001b[32m━━━━━━━━━━━━━━━━━━━━\u001b[0m\u001b[37m\u001b[0m \u001b[1m0s\u001b[0m 35ms/step - loss: 0.0410 - val_loss: 0.0669\n",
      "Epoch 3/20\n",
      "\u001b[1m6/6\u001b[0m \u001b[32m━━━━━━━━━━━━━━━━━━━━\u001b[0m\u001b[37m\u001b[0m \u001b[1m0s\u001b[0m 35ms/step - loss: 0.0314 - val_loss: 0.0148\n",
      "Epoch 4/20\n",
      "\u001b[1m6/6\u001b[0m \u001b[32m━━━━━━━━━━━━━━━━━━━━\u001b[0m\u001b[37m\u001b[0m \u001b[1m0s\u001b[0m 34ms/step - loss: 0.0146 - val_loss: 0.0064\n",
      "Epoch 5/20\n",
      "\u001b[1m6/6\u001b[0m \u001b[32m━━━━━━━━━━━━━━━━━━━━\u001b[0m\u001b[37m\u001b[0m \u001b[1m0s\u001b[0m 36ms/step - loss: 0.0136 - val_loss: 0.0149\n",
      "Epoch 6/20\n",
      "\u001b[1m6/6\u001b[0m \u001b[32m━━━━━━━━━━━━━━━━━━━━\u001b[0m\u001b[37m\u001b[0m \u001b[1m0s\u001b[0m 34ms/step - loss: 0.0140 - val_loss: 0.0042\n",
      "Epoch 7/20\n",
      "\u001b[1m6/6\u001b[0m \u001b[32m━━━━━━━━━━━━━━━━━━━━\u001b[0m\u001b[37m\u001b[0m \u001b[1m0s\u001b[0m 35ms/step - loss: 0.0113 - val_loss: 0.0042\n",
      "Epoch 8/20\n",
      "\u001b[1m6/6\u001b[0m \u001b[32m━━━━━━━━━━━━━━━━━━━━\u001b[0m\u001b[37m\u001b[0m \u001b[1m0s\u001b[0m 36ms/step - loss: 0.0108 - val_loss: 0.0043\n",
      "Epoch 9/20\n",
      "\u001b[1m6/6\u001b[0m \u001b[32m━━━━━━━━━━━━━━━━━━━━\u001b[0m\u001b[37m\u001b[0m \u001b[1m0s\u001b[0m 36ms/step - loss: 0.0111 - val_loss: 0.0044\n",
      "Epoch 10/20\n",
      "\u001b[1m6/6\u001b[0m \u001b[32m━━━━━━━━━━━━━━━━━━━━\u001b[0m\u001b[37m\u001b[0m \u001b[1m0s\u001b[0m 36ms/step - loss: 0.0101 - val_loss: 0.0045\n",
      "Epoch 11/20\n",
      "\u001b[1m6/6\u001b[0m \u001b[32m━━━━━━━━━━━━━━━━━━━━\u001b[0m\u001b[37m\u001b[0m \u001b[1m0s\u001b[0m 35ms/step - loss: 0.0096 - val_loss: 0.0052\n",
      "Epoch 12/20\n",
      "\u001b[1m6/6\u001b[0m \u001b[32m━━━━━━━━━━━━━━━━━━━━\u001b[0m\u001b[37m\u001b[0m \u001b[1m0s\u001b[0m 33ms/step - loss: 0.0092 - val_loss: 0.0047\n",
      "Epoch 13/20\n",
      "\u001b[1m6/6\u001b[0m \u001b[32m━━━━━━━━━━━━━━━━━━━━\u001b[0m\u001b[37m\u001b[0m \u001b[1m0s\u001b[0m 36ms/step - loss: 0.0089 - val_loss: 0.0047\n",
      "Epoch 14/20\n",
      "\u001b[1m6/6\u001b[0m \u001b[32m━━━━━━━━━━━━━━━━━━━━\u001b[0m\u001b[37m\u001b[0m \u001b[1m0s\u001b[0m 34ms/step - loss: 0.0089 - val_loss: 0.0048\n",
      "Epoch 15/20\n",
      "\u001b[1m6/6\u001b[0m \u001b[32m━━━━━━━━━━━━━━━━━━━━\u001b[0m\u001b[37m\u001b[0m \u001b[1m0s\u001b[0m 34ms/step - loss: 0.0088 - val_loss: 0.0045\n",
      "Epoch 16/20\n",
      "\u001b[1m6/6\u001b[0m \u001b[32m━━━━━━━━━━━━━━━━━━━━\u001b[0m\u001b[37m\u001b[0m \u001b[1m0s\u001b[0m 34ms/step - loss: 0.0087 - val_loss: 0.0049\n",
      "Epoch 17/20\n",
      "\u001b[1m6/6\u001b[0m \u001b[32m━━━━━━━━━━━━━━━━━━━━\u001b[0m\u001b[37m\u001b[0m \u001b[1m0s\u001b[0m 33ms/step - loss: 0.0085 - val_loss: 0.0048\n",
      "Epoch 18/20\n",
      "\u001b[1m6/6\u001b[0m \u001b[32m━━━━━━━━━━━━━━━━━━━━\u001b[0m\u001b[37m\u001b[0m \u001b[1m0s\u001b[0m 34ms/step - loss: 0.0070 - val_loss: 0.0043\n",
      "Epoch 19/20\n",
      "\u001b[1m6/6\u001b[0m \u001b[32m━━━━━━━━━━━━━━━━━━━━\u001b[0m\u001b[37m\u001b[0m \u001b[1m0s\u001b[0m 33ms/step - loss: 0.0076 - val_loss: 0.0042\n",
      "Epoch 20/20\n",
      "\u001b[1m6/6\u001b[0m \u001b[32m━━━━━━━━━━━━━━━━━━━━\u001b[0m\u001b[37m\u001b[0m \u001b[1m0s\u001b[0m 33ms/step - loss: 0.0079 - val_loss: 0.0044\n",
      "\u001b[1m2/2\u001b[0m \u001b[32m━━━━━━━━━━━━━━━━━━━━\u001b[0m\u001b[37m\u001b[0m \u001b[1m1s\u001b[0m 375ms/step\n",
      "MAE_LSTM22: 0.06\n",
      "RMSE_LSTM22: 0.07\n",
      "R2_LSTM22: 0.06\n"
     ]
    }
   ],
   "source": [
    "#LSTM\n",
    "x=df[['Open','High','Low']]\n",
    "y=df[['Close']]\n",
    "def create_sequences(features, target, time_steps=60):\n",
    "    X, y = [], []\n",
    "    for i in range(len(features) - time_steps):\n",
    "        X.append(features[i:i+time_steps])\n",
    "        y.append(target[i+time_steps])  \n",
    "    return np.array(X), np.array(y)\n",
    "\n",
    "time_steps = 60  # Use past 60 days for prediction\n",
    "x_array=x.to_numpy()\n",
    "y_array=y.to_numpy()\n",
    "X, y = create_sequences(x_array, y_array, time_steps)\n",
    "\n",
    "# Split into training and testing sets\n",
    "X_train, X_test, y_train, y_test = train_test_split(X, y, test_size=0.2, shuffle=False)\n",
    "\n",
    "# Reshape for LSTM input\n",
    "X_train = X_train.reshape(X_train.shape[0], X_train.shape[1], X_train.shape[2])\n",
    "X_test = X_test.reshape(X_test.shape[0], X_test.shape[1], X_test.shape[2])\n",
    "\n",
    "\n",
    "from tensorflow.keras.models import Sequential\n",
    "from tensorflow.keras.layers import LSTM,Dense,Dropout\n",
    "model_lstm22 = Sequential([\n",
    "    LSTM(units=50, return_sequences=True, input_shape=(time_steps, X_train.shape[2])),\n",
    "    Dropout(0.2),\n",
    "    LSTM(units=50, return_sequences=True),\n",
    "   \n",
    "    LSTM(units=50),\n",
    "    Dense(units=30),\n",
    "    \n",
    "    Dense(units=1)  # Output layer (Predicting Close price)\n",
    "])\n",
    "\n",
    "model_lstm22.compile(optimizer='adam', loss='mean_squared_error')\n",
    "\n",
    "model_lstm22.fit(X_train, y_train, epochs=20, batch_size=30, validation_data=(X_test, y_test))\n",
    "y_pred_lstm22=model_lstm22.predict(X_test)\n",
    "from sklearn.metrics import mean_absolute_error, mean_squared_error,r2_score\n",
    "\n",
    "mae_lstm22 = mean_absolute_error(y_test, y_pred_lstm22)\n",
    "rmse_lstm22 = root_mean_squared_error(y_test, y_pred_lstm22)\n",
    "r2_lstm22=r2_score(y_test,y_pred_lstm22)\n",
    "print(f\"MAE_LSTM22: {mae_lstm22:.2f}\\nRMSE_LSTM22: {rmse_lstm22:.2f}\\nR2_LSTM22: {r2_lstm22:.2f}\")\n",
    "\n"
   ]
  },
  {
   "cell_type": "code",
   "execution_count": 61,
   "metadata": {},
   "outputs": [
    {
     "name": "stdout",
     "output_type": "stream",
     "text": [
      "RMSE_SVR22:0.04899533432995199\n",
      "MAE_SVR22:0.042890592712431785\n",
      "R2_SVR22:0.9692890942425318\n"
     ]
    }
   ],
   "source": [
    "#SVR\n",
    "\n",
    "from sklearn.model_selection import train_test_split\n",
    "from sklearn.svm import SVR\n",
    "from sklearn.metrics import mean_squared_error,mean_absolute_error,r2_score\n",
    "x=df.drop(columns=['Close','Volume','Adj Close'])\n",
    "y=df[['Close']]\n",
    "\n",
    "x_train,x_test,y_train,y_test=train_test_split(x,y,train_size=0.8,random_state=42)\n",
    "\n",
    "\n",
    "model_svr22=SVR(kernel='rbf')\n",
    "model_svr22.fit(x_train,y_train)\n",
    "y_pred_svr22=model_svr22.predict(x_test)\n",
    "\n",
    "rmse_svr22=root_mean_squared_error(y_test,y_pred_svr22)\n",
    "mae_svr22=mean_absolute_error(y_test,y_pred_svr22)\n",
    "r2_svr22=r2_score(y_test,y_pred_svr22)\n",
    "print(f'RMSE_SVR22:{rmse_svr22}\\nMAE_SVR22:{mae_svr22}\\nR2_SVR22:{r2_svr22}')\n",
    "\n"
   ]
  },
  {
   "cell_type": "code",
   "execution_count": 62,
   "metadata": {},
   "outputs": [
    {
     "name": "stdout",
     "output_type": "stream",
     "text": [
      "RMSE_RF22:0.01987182368406491\n",
      "MAE_RF22:0.014094622839464626\n",
      "R2_RF22:0.9949480548743149\n"
     ]
    }
   ],
   "source": [
    "#Random Forest\n",
    "from sklearn.ensemble import RandomForestRegressor\n",
    "from sklearn.model_selection import train_test_split\n",
    "from sklearn.metrics import mean_squared_error,mean_absolute_error,r2_score\n",
    "x=df.drop(columns=['Close','Volume','Adj Close'])\n",
    "y=df[['Close']]\n",
    "\n",
    "x_train,x_test,y_train,y_test=train_test_split(x,y,train_size=0.8,random_state=42)\n",
    "model_rf22=RandomForestRegressor()\n",
    "model_rf22.fit(x_train,y_train)\n",
    "y_pred_rf22=model_rf22.predict(x_test)\n",
    "\n",
    "rmse_rf22=root_mean_squared_error(y_test,y_pred_rf22)\n",
    "mae_rf22=mean_absolute_error(y_test,y_pred_rf22)\n",
    "r2_rf22=r2_score(y_test,y_pred_rf22)\n",
    "print(f'RMSE_RF22:{rmse_rf22}\\nMAE_RF22:{mae_rf22}\\nR2_RF22:{r2_rf22}')"
   ]
  },
  {
   "cell_type": "code",
   "execution_count": 63,
   "metadata": {},
   "outputs": [
    {
     "name": "stdout",
     "output_type": "stream",
     "text": [
      "(39, 1)\n",
      "(39, 1)\n",
      "(39, 1)\n",
      "MAE_H22: 0.11\n",
      "RMSE_H22: 0.13\n",
      "R2_H22: 0.7557\n"
     ]
    }
   ],
   "source": [
    "#hybrid\n",
    "# Reshape Linear Regression predictions to match LSTM predictions\n",
    "y_pred_lr22 = y_pred_lr22[-len(y_pred_lstm22):]  # Ensure equal length\n",
    "y_pred_svr22=y_pred_svr22[-len(y_pred_lstm22):]\n",
    "y_pred_rf22=y_pred_rf22[-len(y_pred_lstm22):]\n",
    "y_test=y_test[-len(y_pred_lstm22):]\n",
    "\n",
    "# Convert to NumPy arrays\n",
    "y_pred_lr22 = np.array(y_pred_lr22).reshape(-1,1)\n",
    "y_pred_lstm22 = np.array(y_pred_lstm22).reshape(-1,1)\n",
    "y_pred_svr22=np.array(y_pred_svr22).reshape(-1,1)\n",
    "y_pred_rf22=np.array(y_pred_rf22).reshape(-1,1)\n",
    "print(y_pred_rf22.shape)\n",
    "print(y_pred_svr22.shape)\n",
    "print(y_test.shape)\n",
    "\n",
    "alpha = 0.25  \n",
    "y_pred_h22 = 0.25 * y_pred_lstm22 + 0.25* y_pred_lr22+0.25*y_pred_svr22+0.25*y_pred_rf22\n",
    "\n",
    "mae_h22=mean_absolute_error(y_test,y_pred_h22)\n",
    "rmse_h22=root_mean_squared_error(y_test,y_pred_h22)\n",
    "r2_h22=r2_score(y_test,y_pred_h22)\n",
    "print(f\"MAE_H22: {mae_h22:.2f}\\nRMSE_H22: {rmse_h22:.2f}\\nR2_H22: {r2_h22:.4f}\")\n",
    "\n"
   ]
  },
  {
   "cell_type": "markdown",
   "metadata": {},
   "source": [
    "### APPROACH 3"
   ]
  },
  {
   "cell_type": "code",
   "execution_count": 64,
   "metadata": {},
   "outputs": [
    {
     "name": "stdout",
     "output_type": "stream",
     "text": [
      "RMSE_LR23 : 0.04179778981751835\n",
      "MAE_LR23 : 0.031797050717774965\n",
      "R2_LR23 : 0.6012842009827444\n"
     ]
    }
   ],
   "source": [
    "#linear regression\n",
    "from sklearn.linear_model import LinearRegression\n",
    "from sklearn.metrics import mean_squared_error,mean_absolute_error,r2_score\n",
    "data=df[['Close']]\n",
    "from warnings import filterwarnings\n",
    "filterwarnings('ignore')\n",
    "\n",
    "\n",
    "data['Lag_1']=df['Close'].shift(1)\n",
    "data['Lag_2']=df['Close'].shift(2)\n",
    "data['Lag_3']=df['Close'].shift(3)\n",
    "data.dropna(inplace=True)\n",
    "\n",
    "\n",
    "x=data[['Lag_1','Lag_2','Lag_3']]\n",
    "y=data[['Close']]\n",
    "\n",
    "\n",
    "train_size=int(len(y)*0.8)\n",
    "x_train,x_test=x[:train_size],x[train_size:]\n",
    "y_train,y_test=y[:train_size],y[train_size:]\n",
    "\n",
    "\n",
    "model_lr23=LinearRegression()\n",
    "model_lr23.fit(x_train,y_train)\n",
    "y_pred_lr23=model_lr23.predict(x_test)\n",
    "\n",
    "rmse_lr23=root_mean_squared_error(y_test,y_pred_lr23)\n",
    "mae_lr23=mean_absolute_error(y_test,y_pred_lr23)\n",
    "r2_lr23=r2_score(y_test,y_pred_lr23)\n",
    "\n",
    "print(f'RMSE_LR23 : {rmse_lr23}\\nMAE_LR23 : {mae_lr23}\\nR2_LR23 : {r2_lr23}')\n",
    "\n",
    "\n"
   ]
  },
  {
   "cell_type": "markdown",
   "metadata": {},
   "source": [
    "**LSTM**\n",
    "\n",
    "LSTM (Long Short-Term Memory) is a type of recurrent neural network (RNN) architecture designed to handle sequence prediction problems and capture long-term dependencies in data. It was introduced to overcome the limitations of traditional RNNs, such as the vanishing and exploding gradient problems.\n",
    "\n"
   ]
  },
  {
   "cell_type": "code",
   "execution_count": 65,
   "metadata": {},
   "outputs": [
    {
     "name": "stdout",
     "output_type": "stream",
     "text": [
      "Epoch 1/20\n",
      "\u001b[1m5/5\u001b[0m \u001b[32m━━━━━━━━━━━━━━━━━━━━\u001b[0m\u001b[37m\u001b[0m \u001b[1m3s\u001b[0m 18ms/step - loss: 0.2001\n",
      "Epoch 2/20\n",
      "\u001b[1m5/5\u001b[0m \u001b[32m━━━━━━━━━━━━━━━━━━━━\u001b[0m\u001b[37m\u001b[0m \u001b[1m0s\u001b[0m 19ms/step - loss: 0.0269\n",
      "Epoch 3/20\n",
      "\u001b[1m5/5\u001b[0m \u001b[32m━━━━━━━━━━━━━━━━━━━━\u001b[0m\u001b[37m\u001b[0m \u001b[1m0s\u001b[0m 20ms/step - loss: 0.0306\n",
      "Epoch 4/20\n",
      "\u001b[1m5/5\u001b[0m \u001b[32m━━━━━━━━━━━━━━━━━━━━\u001b[0m\u001b[37m\u001b[0m \u001b[1m0s\u001b[0m 19ms/step - loss: 0.0165\n",
      "Epoch 5/20\n",
      "\u001b[1m5/5\u001b[0m \u001b[32m━━━━━━━━━━━━━━━━━━━━\u001b[0m\u001b[37m\u001b[0m \u001b[1m0s\u001b[0m 18ms/step - loss: 0.0184\n",
      "Epoch 6/20\n",
      "\u001b[1m5/5\u001b[0m \u001b[32m━━━━━━━━━━━━━━━━━━━━\u001b[0m\u001b[37m\u001b[0m \u001b[1m0s\u001b[0m 21ms/step - loss: 0.0113\n",
      "Epoch 7/20\n",
      "\u001b[1m5/5\u001b[0m \u001b[32m━━━━━━━━━━━━━━━━━━━━\u001b[0m\u001b[37m\u001b[0m \u001b[1m0s\u001b[0m 19ms/step - loss: 0.0124\n",
      "Epoch 8/20\n",
      "\u001b[1m5/5\u001b[0m \u001b[32m━━━━━━━━━━━━━━━━━━━━\u001b[0m\u001b[37m\u001b[0m \u001b[1m0s\u001b[0m 18ms/step - loss: 0.0104\n",
      "Epoch 9/20\n",
      "\u001b[1m5/5\u001b[0m \u001b[32m━━━━━━━━━━━━━━━━━━━━\u001b[0m\u001b[37m\u001b[0m \u001b[1m0s\u001b[0m 20ms/step - loss: 0.0097\n",
      "Epoch 10/20\n",
      "\u001b[1m5/5\u001b[0m \u001b[32m━━━━━━━━━━━━━━━━━━━━\u001b[0m\u001b[37m\u001b[0m \u001b[1m0s\u001b[0m 19ms/step - loss: 0.0090\n",
      "Epoch 11/20\n",
      "\u001b[1m5/5\u001b[0m \u001b[32m━━━━━━━━━━━━━━━━━━━━\u001b[0m\u001b[37m\u001b[0m \u001b[1m0s\u001b[0m 19ms/step - loss: 0.0086\n",
      "Epoch 12/20\n",
      "\u001b[1m5/5\u001b[0m \u001b[32m━━━━━━━━━━━━━━━━━━━━\u001b[0m\u001b[37m\u001b[0m \u001b[1m0s\u001b[0m 18ms/step - loss: 0.0085\n",
      "Epoch 13/20\n",
      "\u001b[1m5/5\u001b[0m \u001b[32m━━━━━━━━━━━━━━━━━━━━\u001b[0m\u001b[37m\u001b[0m \u001b[1m0s\u001b[0m 21ms/step - loss: 0.0082\n",
      "Epoch 14/20\n",
      "\u001b[1m5/5\u001b[0m \u001b[32m━━━━━━━━━━━━━━━━━━━━\u001b[0m\u001b[37m\u001b[0m \u001b[1m0s\u001b[0m 21ms/step - loss: 0.0079\n",
      "Epoch 15/20\n",
      "\u001b[1m5/5\u001b[0m \u001b[32m━━━━━━━━━━━━━━━━━━━━\u001b[0m\u001b[37m\u001b[0m \u001b[1m0s\u001b[0m 18ms/step - loss: 0.0077\n",
      "Epoch 16/20\n",
      "\u001b[1m5/5\u001b[0m \u001b[32m━━━━━━━━━━━━━━━━━━━━\u001b[0m\u001b[37m\u001b[0m \u001b[1m0s\u001b[0m 17ms/step - loss: 0.0074\n",
      "Epoch 17/20\n",
      "\u001b[1m5/5\u001b[0m \u001b[32m━━━━━━━━━━━━━━━━━━━━\u001b[0m\u001b[37m\u001b[0m \u001b[1m0s\u001b[0m 19ms/step - loss: 0.0071\n",
      "Epoch 18/20\n",
      "\u001b[1m5/5\u001b[0m \u001b[32m━━━━━━━━━━━━━━━━━━━━\u001b[0m\u001b[37m\u001b[0m \u001b[1m0s\u001b[0m 18ms/step - loss: 0.0068\n",
      "Epoch 19/20\n",
      "\u001b[1m5/5\u001b[0m \u001b[32m━━━━━━━━━━━━━━━━━━━━\u001b[0m\u001b[37m\u001b[0m \u001b[1m0s\u001b[0m 20ms/step - loss: 0.0065\n",
      "Epoch 20/20\n",
      "\u001b[1m5/5\u001b[0m \u001b[32m━━━━━━━━━━━━━━━━━━━━\u001b[0m\u001b[37m\u001b[0m \u001b[1m0s\u001b[0m 19ms/step - loss: 0.0061\n",
      "\u001b[1m2/2\u001b[0m \u001b[32m━━━━━━━━━━━━━━━━━━━━\u001b[0m\u001b[37m\u001b[0m \u001b[1m1s\u001b[0m 266ms/step\n",
      "RMSE_LSTM23 : 0.061182402769273544\n",
      "MAE_LSTM23 : 0.050079678622353734\n",
      "R2_LSTM23 : 0.20118119700899184\n"
     ]
    }
   ],
   "source": [
    "#LSTM\n",
    "data=df[['Close']]\n",
    "def create_sequences(df, seq_length=60):\n",
    "    X, y=[], []\n",
    "    for i in range(len(df) - seq_length):\n",
    "        X.append(df[i:i+seq_length])\n",
    "        y.append(df[i+seq_length])\n",
    "    return np.array(X), np.array(y)\n",
    "\n",
    "seq_length=60\n",
    "X,y=create_sequences(data['Close'].values,seq_length)\n",
    "\n",
    "# split the sequences into training and test sets (eg, 80% training, 20% testing)\n",
    "train_size=int(len(X)*0.8)\n",
    "X_train,X_test=X[:train_size],X[train_size:]\n",
    "y_train,y_test=y[:train_size],y[train_size:]\n",
    "\n",
    "from tensorflow.keras.models import Sequential\n",
    "from tensorflow.keras.layers import LSTM,Dense\n",
    "\n",
    "model_lstm23=Sequential()\n",
    "model_lstm23.add(LSTM(units=50,return_sequences=True,input_shape=(X_train.shape[1],1)))\n",
    "model_lstm23.add(LSTM(units=50))\n",
    "model_lstm23.add(Dense(1))\n",
    "\n",
    "#compile the model using an appropriate optimizer and loss function\n",
    "model_lstm23.compile(optimizer='adam', loss='mean_squared_error')\n",
    "model_lstm23.fit(X_train,y_train,epochs=20,batch_size=32)\n",
    "\n",
    "#make predictions on using LSTM on the test set and inverse transform the scaled predictions\n",
    "X_test_lstm=X_test.reshape((X_test.shape[0],X_test.shape[1],1))\n",
    "y_pred_lstm23=model_lstm23.predict(X_test_lstm)\n",
    "\n",
    "\n",
    "rmse_lstm23=root_mean_squared_error(y_test,y_pred_lstm23)\n",
    "mae_lstm23=mean_absolute_error(y_test,y_pred_lstm23)\n",
    "r2_lstm23=r2_score(y_test,y_pred_lstm23)\n",
    "\n",
    "print(f'RMSE_LSTM23 : {rmse_lstm23}\\nMAE_LSTM23 : {mae_lstm23}\\nR2_LSTM23 : {r2_lstm23}')\n",
    "\n"
   ]
  },
  {
   "cell_type": "code",
   "execution_count": 66,
   "metadata": {},
   "outputs": [
    {
     "name": "stdout",
     "output_type": "stream",
     "text": [
      "RMSE_SVR23 : 0.057074777739191986\n",
      "MAE_SVR23 : 0.047117868923356274\n",
      "R2_SVR23 : 0.25656112466489056\n"
     ]
    }
   ],
   "source": [
    "#SVR\n",
    "data=df[['Close']]\n",
    "from warnings import filterwarnings\n",
    "filterwarnings('ignore')\n",
    "\n",
    "\n",
    "data['Lag_1']=df['Close'].shift(1)\n",
    "data['Lag_2']=df['Close'].shift(2)\n",
    "data['Lag_3']=df['Close'].shift(3)\n",
    "data.dropna(inplace=True)\n",
    "\n",
    "x=data[['Lag_1','Lag_2','Lag_3']]\n",
    "y=data[['Close']]\n",
    "\n",
    "\n",
    "train_size=int(len(y)*0.8)\n",
    "x_train,x_test=x[:train_size],x[train_size:]\n",
    "y_train,y_test=y[:train_size],y[train_size:]\n",
    "\n",
    "from sklearn.svm import SVR\n",
    "model_svr23=SVR()\n",
    "model_svr23.fit(x_train,y_train)\n",
    "y_pred_svr23=model_svr23.predict(x_test)\n",
    "\n",
    "rmse_svr23=root_mean_squared_error(y_test,y_pred_svr23)\n",
    "mae_svr23=mean_absolute_error(y_test,y_pred_svr23)\n",
    "r2_svr23=r2_score(y_test,y_pred_svr23)\n",
    "\n",
    "print(f'RMSE_SVR23 : {rmse_svr23}\\nMAE_SVR23 : {mae_svr23}\\nR2_SVR23 : {r2_svr23}')\n"
   ]
  },
  {
   "cell_type": "code",
   "execution_count": 67,
   "metadata": {},
   "outputs": [
    {
     "name": "stdout",
     "output_type": "stream",
     "text": [
      "RMSE_RF23 : 0.048059846153632305\n",
      "MAE_RF23 : 0.03920313983545357\n",
      "R2_RF23 : 0.47286535336581403\n"
     ]
    }
   ],
   "source": [
    "#Random Forest\n",
    "data=df[['Close']]\n",
    "from warnings import filterwarnings\n",
    "filterwarnings('ignore')\n",
    "\n",
    "\n",
    "data['Lag_1']=df['Close'].shift(1)\n",
    "data['Lag_2']=df['Close'].shift(2)\n",
    "data['Lag_3']=df['Close'].shift(3)\n",
    "data.dropna(inplace=True)\n",
    "\n",
    "x=data[['Lag_1','Lag_2','Lag_3']]\n",
    "y=data[['Close']]\n",
    "\n",
    "\n",
    "train_size=int(len(y)*0.8)\n",
    "x_train,x_test=x[:train_size],x[train_size:]\n",
    "y_train,y_test=y[:train_size],y[train_size:]\n",
    "\n",
    "from sklearn.ensemble import RandomForestRegressor\n",
    "model_rf_23=RandomForestRegressor()\n",
    "model_rf_23.fit(x_train,y_train)\n",
    "y_pred_rf23=model_rf_23.predict(x_test)\n",
    "\n",
    "rmse_rf23=root_mean_squared_error(y_test,y_pred_rf23)\n",
    "mae_rf23=mean_absolute_error(y_test,y_pred_rf23)\n",
    "r2_rf23=r2_score(y_test,y_pred_rf23)\n",
    "\n",
    "print(f'RMSE_RF23 : {rmse_rf23}\\nMAE_RF23 : {mae_rf23}\\nR2_RF23 : {r2_rf23}')"
   ]
  },
  {
   "cell_type": "markdown",
   "metadata": {},
   "source": [
    "**Choosing the hybrid models**\n",
    "\n",
    "LSTM (Long Short-Term Memory) and Linear Regression models will be used for this task. LSTM effectively captures sequential dependencies and patterns in time-series data, which makes it suitable for modelling stock price movements influenced by historical trends.\n",
    "\n",
    "Linear Regression, on the other hand, is a straightforward model that captures simple linear relationships and long-term trends in data. By combining these two models into a hybrid approach, we leverage the LSTM’s ability to model complex time-dependent patterns alongside the Linear Regression’s ability to identify and follow broader trends. This combination aims to create a more balanced and accurate prediction system."
   ]
  },
  {
   "cell_type": "code",
   "execution_count": 68,
   "metadata": {},
   "outputs": [
    {
     "name": "stdout",
     "output_type": "stream",
     "text": [
      "(39, 1)\n",
      "(39, 1)\n",
      "(39, 1)\n",
      "MAE_H23: 0.035602024036696524\n",
      "RMSE_H23: 0.04548257202931935\n",
      "R2_H23: 0.5585462061457593\n"
     ]
    }
   ],
   "source": [
    "#Hybrid\n",
    "\n",
    "\n",
    "y_pred_lr23 = y_pred_lr23[-len(y_pred_lstm23):]  # Ensure equal length\n",
    "y_pred_svr23=y_pred_svr23[-len(y_pred_lstm23):]\n",
    "y_pred_rf23=y_pred_rf23[-len(y_pred_lstm23):]\n",
    "y_test=y_test[-len(y_pred_lstm23):]\n",
    "\n",
    "# Convert to NumPy arrays\n",
    "y_pred_lr23 = np.array(y_pred_lr23).reshape(-1,1)\n",
    "y_pred_lstm23 = np.array(y_pred_lstm23).reshape(-1,1)\n",
    "y_pred_svr23=np.array(y_pred_svr23).reshape(-1,1)\n",
    "y_pred_rf23=np.array(y_pred_rf23).reshape(-1,1)\n",
    "print(y_pred_rf23.shape)\n",
    "print(y_pred_svr23.shape)\n",
    "print(y_test.shape)\n",
    "\n",
    "alpha = 0.25  \n",
    "y_pred_h23 = 0.25 * y_pred_lstm23 + 0.25* y_pred_lr23+0.25*y_pred_svr23+0.25*y_pred_rf23\n",
    "\n",
    "mae_h23=mean_absolute_error(y_test,y_pred_h23)\n",
    "rmse_h23=root_mean_squared_error(y_test,y_pred_h23)\n",
    "r2_h23=r2_score(y_test,y_pred_h23)\n",
    "print(f\"MAE_H23: {mae_h23}\\nRMSE_H23: {rmse_h23}\\nR2_H23: {r2_h23}\")\n",
    "\n"
   ]
  },
  {
   "cell_type": "markdown",
   "metadata": {},
   "source": [
    "### MODEL-3(VOTING REGRESSOR)"
   ]
  },
  {
   "cell_type": "markdown",
   "metadata": {},
   "source": [
    "### APPROACH 1"
   ]
  },
  {
   "cell_type": "code",
   "execution_count": 69,
   "metadata": {},
   "outputs": [],
   "source": [
    "models={\n",
    "    'LinearRegression':LinearRegression(),\n",
    "    'svr':SVR(),\n",
    "    'RandomForestRegressor':RandomForestRegressor()\n",
    "}"
   ]
  },
  {
   "cell_type": "code",
   "execution_count": 70,
   "metadata": {},
   "outputs": [],
   "source": [
    "# from sklearn.ensemble import VotingClassifier\n",
    "# voting_clf=VotingClassifier(\n",
    "#     estimators=[(name,model) for name, model in models.items()],\n",
    "#     voting='hard'\n",
    "# )"
   ]
  },
  {
   "cell_type": "code",
   "execution_count": 71,
   "metadata": {},
   "outputs": [],
   "source": [
    "# x=df[['Open','High','Low','Volume','Adj Close']]\n",
    "# y=df[['Close']]\n",
    "# x_train,x_test,y_train,y_test=train_test_split(x,y,train_size=0.8,random_state=42)\n"
   ]
  },
  {
   "cell_type": "code",
   "execution_count": 72,
   "metadata": {},
   "outputs": [],
   "source": [
    "# voting_clf.fit(x_train,y_train)"
   ]
  },
  {
   "cell_type": "code",
   "execution_count": null,
   "metadata": {},
   "outputs": [
    {
     "ename": "ValueError",
     "evalue": "Unknown label type: continuous. Maybe you are trying to fit a classifier, which expects discrete classes on a regression target with continuous values.",
     "output_type": "error",
     "traceback": [
      "\u001b[1;31m---------------------------------------------------------------------------\u001b[0m",
      "\u001b[1;31mValueError\u001b[0m                                Traceback (most recent call last)",
      "Cell \u001b[1;32mIn[73], line 13\u001b[0m\n\u001b[0;32m     10\u001b[0m rf \u001b[38;5;241m=\u001b[39m RandomForestRegressor(n_estimators\u001b[38;5;241m=\u001b[39m\u001b[38;5;241m100\u001b[39m, random_state\u001b[38;5;241m=\u001b[39m\u001b[38;5;241m42\u001b[39m)\n\u001b[0;32m     11\u001b[0m vot_rgsr31\u001b[38;5;241m=\u001b[39mVotingClassifier(estimators\u001b[38;5;241m=\u001b[39m[(\u001b[38;5;124m'\u001b[39m\u001b[38;5;124mlr\u001b[39m\u001b[38;5;124m'\u001b[39m, lr), (\u001b[38;5;124m'\u001b[39m\u001b[38;5;124msvr\u001b[39m\u001b[38;5;124m'\u001b[39m, svr), (\u001b[38;5;124m'\u001b[39m\u001b[38;5;124mrf\u001b[39m\u001b[38;5;124m'\u001b[39m, rf)])\n\u001b[1;32m---> 13\u001b[0m vot_rgsr31\u001b[38;5;241m.\u001b[39mfit(x_train,y_train)\n\u001b[0;32m     14\u001b[0m y_pred_vr31\u001b[38;5;241m=\u001b[39mvot_rgsr31\u001b[38;5;241m.\u001b[39mpredict(x_test)\n\u001b[0;32m     17\u001b[0m rmse_vr31\u001b[38;5;241m=\u001b[39mroot_mean_squared_error(y_test,y_pred_vr31)\n",
      "File \u001b[1;32mc:\\Users\\hp\\anaconda3\\Lib\\site-packages\\sklearn\\base.py:1474\u001b[0m, in \u001b[0;36m_fit_context.<locals>.decorator.<locals>.wrapper\u001b[1;34m(estimator, *args, **kwargs)\u001b[0m\n\u001b[0;32m   1467\u001b[0m     estimator\u001b[38;5;241m.\u001b[39m_validate_params()\n\u001b[0;32m   1469\u001b[0m \u001b[38;5;28;01mwith\u001b[39;00m config_context(\n\u001b[0;32m   1470\u001b[0m     skip_parameter_validation\u001b[38;5;241m=\u001b[39m(\n\u001b[0;32m   1471\u001b[0m         prefer_skip_nested_validation \u001b[38;5;129;01mor\u001b[39;00m global_skip_validation\n\u001b[0;32m   1472\u001b[0m     )\n\u001b[0;32m   1473\u001b[0m ):\n\u001b[1;32m-> 1474\u001b[0m     \u001b[38;5;28;01mreturn\u001b[39;00m fit_method(estimator, \u001b[38;5;241m*\u001b[39margs, \u001b[38;5;241m*\u001b[39m\u001b[38;5;241m*\u001b[39mkwargs)\n",
      "File \u001b[1;32mc:\\Users\\hp\\anaconda3\\Lib\\site-packages\\sklearn\\ensemble\\_voting.py:348\u001b[0m, in \u001b[0;36mVotingClassifier.fit\u001b[1;34m(self, X, y, sample_weight)\u001b[0m\n\u001b[0;32m    345\u001b[0m y_type \u001b[38;5;241m=\u001b[39m type_of_target(y, input_name\u001b[38;5;241m=\u001b[39m\u001b[38;5;124m\"\u001b[39m\u001b[38;5;124my\u001b[39m\u001b[38;5;124m\"\u001b[39m)\n\u001b[0;32m    346\u001b[0m \u001b[38;5;28;01mif\u001b[39;00m y_type \u001b[38;5;129;01min\u001b[39;00m (\u001b[38;5;124m\"\u001b[39m\u001b[38;5;124munknown\u001b[39m\u001b[38;5;124m\"\u001b[39m, \u001b[38;5;124m\"\u001b[39m\u001b[38;5;124mcontinuous\u001b[39m\u001b[38;5;124m\"\u001b[39m):\n\u001b[0;32m    347\u001b[0m     \u001b[38;5;66;03m# raise a specific ValueError for non-classification tasks\u001b[39;00m\n\u001b[1;32m--> 348\u001b[0m     \u001b[38;5;28;01mraise\u001b[39;00m \u001b[38;5;167;01mValueError\u001b[39;00m(\n\u001b[0;32m    349\u001b[0m         \u001b[38;5;124mf\u001b[39m\u001b[38;5;124m\"\u001b[39m\u001b[38;5;124mUnknown label type: \u001b[39m\u001b[38;5;132;01m{\u001b[39;00my_type\u001b[38;5;132;01m}\u001b[39;00m\u001b[38;5;124m. Maybe you are trying to fit a \u001b[39m\u001b[38;5;124m\"\u001b[39m\n\u001b[0;32m    350\u001b[0m         \u001b[38;5;124m\"\u001b[39m\u001b[38;5;124mclassifier, which expects discrete classes on a \u001b[39m\u001b[38;5;124m\"\u001b[39m\n\u001b[0;32m    351\u001b[0m         \u001b[38;5;124m\"\u001b[39m\u001b[38;5;124mregression target with continuous values.\u001b[39m\u001b[38;5;124m\"\u001b[39m\n\u001b[0;32m    352\u001b[0m     )\n\u001b[0;32m    353\u001b[0m \u001b[38;5;28;01melif\u001b[39;00m y_type \u001b[38;5;129;01mnot\u001b[39;00m \u001b[38;5;129;01min\u001b[39;00m (\u001b[38;5;124m\"\u001b[39m\u001b[38;5;124mbinary\u001b[39m\u001b[38;5;124m\"\u001b[39m, \u001b[38;5;124m\"\u001b[39m\u001b[38;5;124mmulticlass\u001b[39m\u001b[38;5;124m\"\u001b[39m):\n\u001b[0;32m    354\u001b[0m     \u001b[38;5;66;03m# raise a NotImplementedError for backward compatibility for non-supported\u001b[39;00m\n\u001b[0;32m    355\u001b[0m     \u001b[38;5;66;03m# classification tasks\u001b[39;00m\n\u001b[0;32m    356\u001b[0m     \u001b[38;5;28;01mraise\u001b[39;00m \u001b[38;5;167;01mNotImplementedError\u001b[39;00m(\n\u001b[0;32m    357\u001b[0m         \u001b[38;5;124mf\u001b[39m\u001b[38;5;124m\"\u001b[39m\u001b[38;5;132;01m{\u001b[39;00m\u001b[38;5;28mself\u001b[39m\u001b[38;5;241m.\u001b[39m\u001b[38;5;18m__class__\u001b[39m\u001b[38;5;241m.\u001b[39m\u001b[38;5;18m__name__\u001b[39m\u001b[38;5;132;01m}\u001b[39;00m\u001b[38;5;124m only supports binary or multiclass \u001b[39m\u001b[38;5;124m\"\u001b[39m\n\u001b[0;32m    358\u001b[0m         \u001b[38;5;124m\"\u001b[39m\u001b[38;5;124mclassification. Multilabel and multi-output classification are not \u001b[39m\u001b[38;5;124m\"\u001b[39m\n\u001b[0;32m    359\u001b[0m         \u001b[38;5;124m\"\u001b[39m\u001b[38;5;124msupported.\u001b[39m\u001b[38;5;124m\"\u001b[39m\n\u001b[0;32m    360\u001b[0m     )\n",
      "\u001b[1;31mValueError\u001b[0m: Unknown label type: continuous. Maybe you are trying to fit a classifier, which expects discrete classes on a regression target with continuous values."
     ]
    }
   ],
   "source": [
    "# from  sklearn.ensemble import VotingClassifier,RandomForestRegressor\n",
    "# from sklearn.model_selection import train_test_split\n",
    "# from sklearn.linear_model import LinearRegression\n",
    "# from sklearn.svm import SVR\n",
    "# x=df[['Open','High','Low','Volume','Adj Close']]\n",
    "# y=df[['Close']]\n",
    "# x_train,x_test,y_train,y_test=train_test_split(x,y,train_size=0.8,random_state=42)\n",
    "# lr = LinearRegression()\n",
    "# svr = SVR()\n",
    "# rf = RandomForestRegressor(n_estimators=100, random_state=42)\n",
    "# vot_rgsr31=VotingClassifier(estimators=[('lr', lr), ('svr', svr), ('rf', rf)])\n",
    "\n",
    "# vot_rgsr31.fit(x_train,y_train)\n",
    "# y_pred_vr31=vot_rgsr31.predict(x_test)\n",
    "\n",
    "\n",
    "# rmse_vr31=root_mean_squared_error(y_test,y_pred_vr31)\n",
    "# mae_vr31=mean_absolute_error(y_test,y_pred_vr31)\n",
    "# r2_vr31=r2_score(y_test,y_pred_vr31)\n",
    "\n",
    "# print(f'RMSE_VR31 : {rmse_vr31}\\nMAE_VR31 : {mae_vr31}\\nR2_VR31 : {r2_vr31}')\n"
   ]
  },
  {
   "cell_type": "code",
   "execution_count": 74,
   "metadata": {},
   "outputs": [
    {
     "name": "stdout",
     "output_type": "stream",
     "text": [
      "RMSE_VR31 : 0.018959575909287332\n",
      "MAE_VR31 : 0.016103469653466044\n",
      "R2_VR31 : 0.9954012435310327\n"
     ]
    }
   ],
   "source": [
    "from  sklearn.ensemble import VotingRegressor\n",
    "x=df[['Open','High','Low','Volume','Adj Close']]\n",
    "y=df[['Close']]\n",
    "x_train,x_test,y_train,y_test=train_test_split(x,y,train_size=0.8,random_state=42)\n",
    "lr = LinearRegression()\n",
    "svr = SVR()\n",
    "rf = RandomForestRegressor(n_estimators=100, random_state=42)\n",
    "vot_rgsr31=VotingRegressor(estimators=[('lr', lr), ('svr', svr), ('rf', rf)])\n",
    "\n",
    "vot_rgsr31.fit(x_train,y_train)\n",
    "y_pred_vr31=vot_rgsr31.predict(x_test)\n",
    "\n",
    "\n",
    "rmse_vr31=root_mean_squared_error(y_test,y_pred_vr31)\n",
    "mae_vr31=mean_absolute_error(y_test,y_pred_vr31)\n",
    "r2_vr31=r2_score(y_test,y_pred_vr31)\n",
    "\n",
    "print(f'RMSE_VR31 : {rmse_vr31}\\nMAE_VR31 : {mae_vr31}\\nR2_VR31 : {r2_vr31}')\n"
   ]
  },
  {
   "cell_type": "markdown",
   "metadata": {},
   "source": [
    "### APPROACH 2"
   ]
  },
  {
   "cell_type": "code",
   "execution_count": 75,
   "metadata": {},
   "outputs": [
    {
     "name": "stdout",
     "output_type": "stream",
     "text": [
      "RMSE_VR32 : 0.022069310729019007\n",
      "MAE_VR32 : 0.01866327940123137\n",
      "R2_VR32 : 0.9937689575043465\n"
     ]
    }
   ],
   "source": [
    "from  sklearn.ensemble import VotingRegressor\n",
    "x=df[['Open','High','Low']]\n",
    "y=df[['Close']]\n",
    "x_train,x_test,y_train,y_test=train_test_split(x,y,train_size=0.8,random_state=42)\n",
    "lr = LinearRegression()\n",
    "svr = SVR()\n",
    "rf = RandomForestRegressor(n_estimators=100, random_state=42)\n",
    "vot_rgsr32=VotingRegressor(estimators=[('lr', lr), ('svr', svr), ('rf', rf)])\n",
    "\n",
    "vot_rgsr32.fit(x_train,y_train)\n",
    "y_pred_vr32=vot_rgsr32.predict(x_test)\n",
    "\n",
    "\n",
    "rmse_vr32=root_mean_squared_error(y_test,y_pred_vr32)\n",
    "mae_vr32=mean_absolute_error(y_test,y_pred_vr32)\n",
    "r2_vr32=r2_score(y_test,y_pred_vr32)\n",
    "\n",
    "print(f'RMSE_VR32 : {rmse_vr32}\\nMAE_VR32 : {mae_vr32}\\nR2_VR32 : {r2_vr32}')\n"
   ]
  },
  {
   "cell_type": "markdown",
   "metadata": {},
   "source": [
    "### APPROACH 3"
   ]
  },
  {
   "cell_type": "code",
   "execution_count": 76,
   "metadata": {},
   "outputs": [
    {
     "name": "stdout",
     "output_type": "stream",
     "text": [
      "RMSE_VR33 : 0.032301148287122494\n",
      "MAE_VR33 : 0.027143415953951134\n",
      "R2_VR33 : 0.9884275742301034\n"
     ]
    }
   ],
   "source": [
    "from  sklearn.ensemble import VotingRegressor\n",
    "\n",
    "data=df[['Close']]\n",
    "\n",
    "data['Lag_1']=df['Close'].shift(1)\n",
    "data['Lag_2']=df['Close'].shift(2)\n",
    "data['Lag_3']=df['Close'].shift(3)\n",
    "data.dropna(inplace=True)\n",
    "\n",
    "\n",
    "x=data[['Lag_1','Lag_2','Lag_3']]\n",
    "y=data[['Close']]\n",
    "\n",
    "\n",
    "x_train,x_test,y_train,y_test=train_test_split(x,y,train_size=0.8,random_state=42)\n",
    "lr = LinearRegression()\n",
    "svr = SVR()\n",
    "rf = RandomForestRegressor(n_estimators=100, random_state=42)\n",
    "vot_rgsr33=VotingRegressor(estimators=[('lr', lr), ('svr', svr), ('rf', rf)])\n",
    "\n",
    "vot_rgsr33.fit(x_train,y_train)\n",
    "y_pred_vr33=vot_rgsr33.predict(x_test)\n",
    "\n",
    "\n",
    "rmse_vr33=root_mean_squared_error(y_test,y_pred_vr33)\n",
    "mae_vr33=mean_absolute_error(y_test,y_pred_vr33)\n",
    "r2_vr33=r2_score(y_test,y_pred_vr33)\n",
    "\n",
    "print(f'RMSE_VR33 : {rmse_vr33}\\nMAE_VR33 : {mae_vr33}\\nR2_VR33 : {r2_vr33}')\n"
   ]
  },
  {
   "cell_type": "markdown",
   "metadata": {},
   "source": [
    "### RESULT"
   ]
  },
  {
   "cell_type": "code",
   "execution_count": 77,
   "metadata": {},
   "outputs": [
    {
     "name": "stdout",
     "output_type": "stream",
     "text": [
      "           Model    Approach      RMSE       MAE        R2\n",
      "0        HYBRID1  Approach 1  0.224918  0.198645 -9.795516\n",
      "1        HYBRID1  Approach 2  0.220523  0.194120 -9.377730\n",
      "2        HYBRID1  Approach 3  0.064204  0.052957  0.120335\n",
      "3        HYBRID2  Approach 1  0.131997  0.115328  0.754412\n",
      "4        HYBRID2  Approach 2  0.131637  0.114410  0.755747\n",
      "5        HYBRID2  Approach 3  0.045483  0.035602  0.558546\n",
      "6  VOT_REGRESSOR  Approach 1  0.018960  0.016103  0.995401\n",
      "7  VOT_REGRESSOR  Approach 2  0.022069  0.018663  0.993769\n",
      "8  VOT_REGRESSOR  Approach 3  0.032301  0.027143  0.988428\n"
     ]
    }
   ],
   "source": [
    "model_metrics = {\n",
    "    \"Model\": [\"HYBRID1\",\"HYBRID1\",\"HYBRID1\",\"HYBRID2\",\"HYBRID2\",\"HYBRID2\",\"VOT_REGRESSOR\",\"VOT_REGRESSOR\",\"VOT_REGRESSOR\"], \n",
    "    \"Approach\": [\"Approach 1\",\"Approach 2\",\"Approach 3\",\"Approach 1\",\"Approach 2\",\"Approach 3\",\"Approach 1\",\"Approach 2\",\"Approach 3\"],\n",
    "    \"RMSE\": [rmse_h11\n",
    "             ,rmse_h12,rmse_h13,rmse_h21,rmse_h22,rmse_h23,rmse_vr31,rmse_vr32,rmse_vr33], \n",
    "    \"MAE\": [mae_h11,mae_h12,mae_h13,mae_h21,mae_h22,mae_h23,mae_vr31,mae_vr32,mae_vr33],\n",
    "    \"R2\": [r2_h11,r2_h12,r2_h13,r2_h21,r2_h22,r2_h23,r2_vr31,r2_vr32,r2_vr33]\n",
    "}\n",
    "\n",
    "# Convert dictionary to DataFrame\n",
    "df_metrics = pd.DataFrame(model_metrics)\n",
    "\n",
    "# Display the DataFrame\n",
    "print(df_metrics)"
   ]
  }
 ],
 "metadata": {
  "kernelspec": {
   "display_name": "base",
   "language": "python",
   "name": "python3"
  },
  "language_info": {
   "codemirror_mode": {
    "name": "ipython",
    "version": 3
   },
   "file_extension": ".py",
   "mimetype": "text/x-python",
   "name": "python",
   "nbconvert_exporter": "python",
   "pygments_lexer": "ipython3",
   "version": "3.12.4"
  }
 },
 "nbformat": 4,
 "nbformat_minor": 2
}
